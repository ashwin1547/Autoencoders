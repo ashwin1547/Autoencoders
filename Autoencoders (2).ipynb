{
  "nbformat": 4,
  "nbformat_minor": 0,
  "metadata": {
    "colab": {
      "name": "Autoencoders.ipynb",
      "provenance": [],
      "collapsed_sections": []
    },
    "kernelspec": {
      "name": "python3",
      "display_name": "Python 3"
    },
    "accelerator": "GPU"
  },
  "cells": [
    {
      "cell_type": "code",
      "metadata": {
        "id": "gCD4mErMm0rX",
        "colab_type": "code",
        "colab": {}
      },
      "source": [
        "import matplotlib.pyplot as plt\n",
        "import torch\n",
        "import torch.nn as nn\n",
        "import torch.nn.functional as F\n",
        "import torch.utils.data\n",
        "import torchvision\n",
        "from torch.autograd import Variable\n",
        "from sklearn.model_selection import train_test_split\n",
        "from sklearn.decomposition import PCA\n",
        "import numpy as np"
      ],
      "execution_count": 0,
      "outputs": []
    },
    {
      "cell_type": "code",
      "metadata": {
        "id": "F6PE4iqPnO-k",
        "colab_type": "code",
        "colab": {}
      },
      "source": [
        "train_data = torchvision.datasets.MNIST(root = '/content/', transform=torchvision.transforms.ToTensor(),train=True, target_transform=None, download=True)\n",
        "test_data = torchvision.datasets.MNIST(root = '/content/',transform=torchvision.transforms.ToTensor(), train=False, target_transform=None, download=True)"
      ],
      "execution_count": 0,
      "outputs": []
    },
    {
      "cell_type": "code",
      "metadata": {
        "id": "q4bn3P9jnRNw",
        "colab_type": "code",
        "colab": {}
      },
      "source": [
        "train_images = train_data.data.view(60000,-1)/255.\n",
        "test_images = test_data.data.view(10000,-1)/255."
      ],
      "execution_count": 0,
      "outputs": []
    },
    {
      "cell_type": "markdown",
      "metadata": {
        "id": "EZl7SNakGUKE",
        "colab_type": "text"
      },
      "source": [
        "# 1. Comparing PCA and Autoencoders"
      ]
    },
    {
      "cell_type": "markdown",
      "metadata": {
        "id": "kEUCpKlqGabS",
        "colab_type": "text"
      },
      "source": [
        "**PCA**"
      ]
    },
    {
      "cell_type": "code",
      "metadata": {
        "id": "I2YPvFjRngOq",
        "colab_type": "code",
        "outputId": "edf0a1d1-053f-42b3-eef1-4614560c4aa8",
        "colab": {
          "base_uri": "https://localhost:8080/",
          "height": 50
        }
      },
      "source": [
        "pca = PCA(n_components = 30)\n",
        "pca.fit(train_images)"
      ],
      "execution_count": 142,
      "outputs": [
        {
          "output_type": "execute_result",
          "data": {
            "text/plain": [
              "PCA(copy=True, iterated_power='auto', n_components=30, random_state=None,\n",
              "    svd_solver='auto', tol=0.0, whiten=False)"
            ]
          },
          "metadata": {
            "tags": []
          },
          "execution_count": 142
        }
      ]
    },
    {
      "cell_type": "code",
      "metadata": {
        "id": "bmsjZ6e4piI7",
        "colab_type": "code",
        "colab": {}
      },
      "source": [
        "train_transform = pca.transform(train_images)\n",
        "test_transform = pca.transform(test_images)"
      ],
      "execution_count": 0,
      "outputs": []
    },
    {
      "cell_type": "code",
      "metadata": {
        "id": "4L5ZADgfqkIt",
        "colab_type": "code",
        "colab": {}
      },
      "source": [
        "train_reconstructed = pca.inverse_transform(train_transform)\n",
        "test_reconstructed = pca.inverse_transform(test_transform)"
      ],
      "execution_count": 0,
      "outputs": []
    },
    {
      "cell_type": "code",
      "metadata": {
        "id": "O4xKzELmvop8",
        "colab_type": "code",
        "colab": {}
      },
      "source": [
        "train_images_recon = train_reconstructed.reshape(-1,28,28)\n",
        "test_images_recon = test_reconstructed.reshape(-1,28,28)\n"
      ],
      "execution_count": 0,
      "outputs": []
    },
    {
      "cell_type": "code",
      "metadata": {
        "id": "xTF9EN77nJcc",
        "colab_type": "code",
        "outputId": "9abc1dfd-4c85-4490-a7fb-87e23e33442d",
        "colab": {
          "base_uri": "https://localhost:8080/",
          "height": 545
        }
      },
      "source": [
        "rand_no = np.random.randint(0,10000)\n",
        "plt.imshow(test_images[rand_no].view(28,28))\n",
        "plt.title('Original Image')\n",
        "plt.show()\n",
        "plt.imshow(test_images_recon[rand_no])\n",
        "plt.title('Reconstructed Image using first 30 eigen values')\n",
        "plt.show()\n"
      ],
      "execution_count": 146,
      "outputs": [
        {
          "output_type": "display_data",
          "data": {
            "image/png": "[encoded data removed]",
            "text/plain": [
              "<Figure size 432x288 with 1 Axes>"
            ]
          },
          "metadata": {
            "tags": []
          }
        },
        {
          "output_type": "display_data",
          "data": {
            "image/png": "[encoded data removed]",
            "text/plain": [
              "<Figure size 432x288 with 1 Axes>"
            ]
          },
          "metadata": {
            "tags": []
          }
        }
      ]
    },
    {
      "cell_type": "markdown",
      "metadata": {
        "id": "Ki34TW5KsZ6E",
        "colab_type": "text"
      },
      "source": [
        "**MSE for PCA reconstructed image and Original image**"
      ]
    },
    {
      "cell_type": "code",
      "metadata": {
        "id": "czgK_-V9rXk1",
        "colab_type": "code",
        "outputId": "f3b78853-a726-4920-863a-d4fc22317688",
        "colab": {
          "base_uri": "https://localhost:8080/",
          "height": 34
        }
      },
      "source": [
        "print('MSE:',np.mean((test_reconstructed-test_images.numpy())*(test_reconstructed-test_images.numpy())))"
      ],
      "execution_count": 147,
      "outputs": [
        {
          "output_type": "stream",
          "text": [
            "MSE: 0.017687040359335434\n"
          ],
          "name": "stdout"
        }
      ]
    },
    {
      "cell_type": "markdown",
      "metadata": {
        "id": "r4I-cyDCGvUy",
        "colab_type": "text"
      },
      "source": [
        "**Autoencoders**"
      ]
    },
    {
      "cell_type": "code",
      "metadata": {
        "id": "sq3N8eKvw9k2",
        "colab_type": "code",
        "colab": {}
      },
      "source": [
        "train_data, val_data = torch.utils.data.random_split(train_images, lengths= [50000,10000])"
      ],
      "execution_count": 0,
      "outputs": []
    },
    {
      "cell_type": "code",
      "metadata": {
        "id": "udiepqqp04nk",
        "colab_type": "code",
        "colab": {}
      },
      "source": [
        "train_loader = torch.utils.data.DataLoader(train_data, batch_size = 64, shuffle = True)\n",
        "val_loader = torch.utils.data.DataLoader(val_data, batch_size = 64, shuffle = True)\n",
        "test_loader = torch.utils.data.DataLoader(test_images, batch_size = 64, shuffle = True)"
      ],
      "execution_count": 0,
      "outputs": []
    },
    {
      "cell_type": "code",
      "metadata": {
        "id": "hMwS0rAQx_MD",
        "colab_type": "code",
        "colab": {}
      },
      "source": [
        "class autoencoder(nn.Module):\n",
        "    def __init__(self):\n",
        "        super(autoencoder, self).__init__()\n",
        "        self.encoder = nn.Sequential(\n",
        "            nn.Linear(28 * 28, 512),\n",
        "            nn.ReLU(True),\n",
        "            nn.Linear(512, 256),\n",
        "            nn.ReLU(True), nn.Linear(256, 128),nn.ReLU(True), nn.Linear(128, 30),nn.ReLU(True))\n",
        "        self.decoder = nn.Sequential(\n",
        "            nn.Linear(30, 128),\n",
        "            nn.ReLU(True),\n",
        "            nn.Linear(128, 256),\n",
        "            nn.ReLU(True),\n",
        "            nn.Linear(256, 784),nn.ReLU(True))\n",
        "\n",
        "    def forward(self, x):\n",
        "        x = self.encoder(x)\n",
        "        x = self.decoder(x)\n",
        "        return x\n"
      ],
      "execution_count": 0,
      "outputs": []
    },
    {
      "cell_type": "code",
      "metadata": {
        "id": "ByksTbbkzv3z",
        "colab_type": "code",
        "colab": {}
      },
      "source": [
        "model = autoencoder().cuda()\n",
        "criterion = nn.MSELoss()\n",
        "optimizer = torch.optim.Adam(\n",
        "model.parameters(), lr= 0.001)"
      ],
      "execution_count": 0,
      "outputs": []
    },
    {
      "cell_type": "code",
      "metadata": {
        "id": "Fhc18dhq18a9",
        "colab_type": "code",
        "outputId": "c0df2b66-934b-48cb-b80d-6d45ee67d628",
        "colab": {
          "base_uri": "https://localhost:8080/",
          "height": 353
        }
      },
      "source": [
        "num_epochs = 20\n",
        "run_train_loss = []\n",
        "run_val_loss = []\n",
        "for epoch in range(num_epochs):\n",
        "    for data in train_loader:\n",
        "        img = data\n",
        "        img = img.view(img.size(0), -1)\n",
        "        img = Variable(img)\n",
        "        # ===================forward=====================\n",
        "        img = img.type(torch.FloatTensor).cuda()\n",
        "        output = model(img)\n",
        "        loss = criterion(output, img)\n",
        "        # ===================backward====================\n",
        "        optimizer.zero_grad()\n",
        "        loss.backward()\n",
        "        optimizer.step()\n",
        "    \n",
        "    with torch.no_grad():\n",
        "        train_loss = 0\n",
        "        total_train = 0\n",
        "        for data in train_loader:\n",
        "            images = data\n",
        "            images = images.view(images.size(0), -1)\n",
        "            images = Variable(images)\n",
        "            images = images.type(torch.FloatTensor).cuda()\n",
        "            outputs = model(images)\n",
        "            loss_train = criterion(outputs, images)\n",
        "            train_loss += loss_train\n",
        "            total_train += 1\n",
        "          \n",
        "    run_train_loss.append(train_loss/total_train)\n",
        "    with torch.no_grad():\n",
        "        val_loss = 0\n",
        "        total_val = 0\n",
        "        for data in val_loader:\n",
        "            images = data\n",
        "            images = images.view(images.size(0), -1)\n",
        "            images = Variable(images)\n",
        "            images = images.type(torch.FloatTensor).cuda()\n",
        "            outputs = model(images)\n",
        "            loss_val = criterion(outputs, images)\n",
        "            val_loss += loss_val\n",
        "            total_val += 1\n",
        "    run_val_loss.append(val_loss/total_val)\n",
        "    \n",
        "            \n",
        "    # ===================log========================\n",
        "    print('epoch [{}/{}], train_loss:{:.4f}\\t val_loss:{:.4f}'\n",
        "          .format(epoch + 1, num_epochs, train_loss/total_train,val_loss/total_val))"
      ],
      "execution_count": 152,
      "outputs": [
        {
          "output_type": "stream",
          "text": [
            "epoch [1/20], train_loss:0.0302\t val_loss:0.0302\n",
            "epoch [2/20], train_loss:0.0239\t val_loss:0.0240\n",
            "epoch [3/20], train_loss:0.0215\t val_loss:0.0217\n",
            "epoch [4/20], train_loss:0.0202\t val_loss:0.0204\n",
            "epoch [5/20], train_loss:0.0182\t val_loss:0.0185\n",
            "epoch [6/20], train_loss:0.0176\t val_loss:0.0178\n",
            "epoch [7/20], train_loss:0.0170\t val_loss:0.0173\n",
            "epoch [8/20], train_loss:0.0165\t val_loss:0.0169\n",
            "epoch [9/20], train_loss:0.0158\t val_loss:0.0162\n",
            "epoch [10/20], train_loss:0.0155\t val_loss:0.0159\n",
            "epoch [11/20], train_loss:0.0153\t val_loss:0.0157\n",
            "epoch [12/20], train_loss:0.0150\t val_loss:0.0154\n",
            "epoch [13/20], train_loss:0.0151\t val_loss:0.0155\n",
            "epoch [14/20], train_loss:0.0150\t val_loss:0.0155\n",
            "epoch [15/20], train_loss:0.0147\t val_loss:0.0152\n",
            "epoch [16/20], train_loss:0.0145\t val_loss:0.0150\n",
            "epoch [17/20], train_loss:0.0143\t val_loss:0.0149\n",
            "epoch [18/20], train_loss:0.0142\t val_loss:0.0147\n",
            "epoch [19/20], train_loss:0.0142\t val_loss:0.0148\n",
            "epoch [20/20], train_loss:0.0142\t val_loss:0.0148\n"
          ],
          "name": "stdout"
        }
      ]
    },
    {
      "cell_type": "code",
      "metadata": {
        "id": "uLqVBUiT8J2J",
        "colab_type": "code",
        "outputId": "be1cbaf0-f159-4605-d6f4-de9bc585e35c",
        "colab": {
          "base_uri": "https://localhost:8080/",
          "height": 296
        }
      },
      "source": [
        "epoch = [i for i in range(1,len(run_train_loss)+1)]\n",
        "plt.plot(epoch,run_train_loss,'-r')\n",
        "plt.plot(epoch,run_val_loss,'-b')\n",
        "plt.title('Train and validation loss')\n",
        "plt.xlabel('n_iterations')\n",
        "plt.ylabel('Error')\n",
        "plt.gca().legend(('train loss','validation loss'))\n",
        "plt.show()"
      ],
      "execution_count": 153,
      "outputs": [
        {
          "output_type": "display_data",
          "data": {
            "image/png": "[encoded data removed]",
            "text/plain": [
              "<Figure size 432x288 with 1 Axes>"
            ]
          },
          "metadata": {
            "tags": []
          }
        }
      ]
    },
    {
      "cell_type": "code",
      "metadata": {
        "id": "IdDEILfz_Ffi",
        "colab_type": "code",
        "outputId": "2c8900f6-4836-416d-a309-1b92578f6078",
        "colab": {
          "base_uri": "https://localhost:8080/",
          "height": 34
        }
      },
      "source": [
        "with torch.no_grad():\n",
        "        test_loss = 0\n",
        "        total_test = 0\n",
        "        for data in test_loader:\n",
        "            images = data\n",
        "            images = images.view(images.size(0), -1)\n",
        "            images = Variable(images)\n",
        "            images = images.type(torch.FloatTensor).cuda()\n",
        "            outputs = model(images)\n",
        "            loss_test = criterion(outputs, images)\n",
        "            loss_test = loss_test.item()\n",
        "            test_loss += loss_test\n",
        "            total_test += 1\n",
        "Mse = test_loss/total_test\n",
        "print('MSE:',Mse)"
      ],
      "execution_count": 154,
      "outputs": [
        {
          "output_type": "stream",
          "text": [
            "MSE: 0.01476149426500319\n"
          ],
          "name": "stdout"
        }
      ]
    },
    {
      "cell_type": "code",
      "metadata": {
        "id": "Bu0lqXGK1liM",
        "colab_type": "code",
        "colab": {}
      },
      "source": [
        "test_auto = model(test_images.type(torch.FloatTensor).cuda())"
      ],
      "execution_count": 0,
      "outputs": []
    },
    {
      "cell_type": "code",
      "metadata": {
        "id": "xrRM7KuL6E1t",
        "colab_type": "code",
        "outputId": "56b346d9-a2ba-427b-be15-04b3dec03938",
        "colab": {
          "base_uri": "https://localhost:8080/",
          "height": 545
        }
      },
      "source": [
        "rand_no = np.random.randint(0,10000)\n",
        "plt.imshow(test_images[rand_no].view(28,28))\n",
        "plt.title('Original Image')\n",
        "plt.show()\n",
        "plt.imshow(test_auto[rand_no].data.cpu().view(28,28))\n",
        "plt.title('Auto encoder reconstruction')\n",
        "plt.show()"
      ],
      "execution_count": 156,
      "outputs": [
        {
          "output_type": "display_data",
          "data": {
            "image/png": "[encoded data removed]",
            "text/plain": [
              "<Figure size 432x288 with 1 Axes>"
            ]
          },
          "metadata": {
            "tags": []
          }
        },
        {
          "output_type": "display_data",
          "data": {
            "image/png": "[encoded data removed]",
            "text/plain": [
              "<Figure size 432x288 with 1 Axes>"
            ]
          },
          "metadata": {
            "tags": []
          }
        }
      ]
    },
    {
      "cell_type": "markdown",
      "metadata": {
        "id": "wDYKB2ufjREQ",
        "colab_type": "text"
      },
      "source": [
        "Reconstruction is better in case of Autoencoder. MSE after reconstruction was 0.0177 in case of PCA while it is 0.0146 in case of Autoencoder"
      ]
    },
    {
      "cell_type": "markdown",
      "metadata": {
        "id": "V11Zuuhe6Htp",
        "colab_type": "text"
      },
      "source": [
        "# 2. Experimenting with hidden units of varying sizes"
      ]
    },
    {
      "cell_type": "markdown",
      "metadata": {
        "id": "S6Sb0O8Q6lxG",
        "colab_type": "text"
      },
      "source": [
        "**Hidden Units: 64**"
      ]
    },
    {
      "cell_type": "code",
      "metadata": {
        "id": "0NaQ3ovU6dW_",
        "colab_type": "code",
        "colab": {}
      },
      "source": [
        "class autoencoder(nn.Module):\n",
        "    def __init__(self):\n",
        "        super(autoencoder, self).__init__()\n",
        "        self.encoder = nn.Sequential(\n",
        "            nn.Linear(28 * 28, 64),\n",
        "            nn.ReLU(True))\n",
        "        self.decoder = nn.Sequential(\n",
        "            nn.Linear(64, 784),\n",
        "            nn.ReLU(True))\n",
        "\n",
        "    def forward(self, x):\n",
        "        x = self.encoder(x)\n",
        "        x = self.decoder(x)\n",
        "        return x\n"
      ],
      "execution_count": 0,
      "outputs": []
    },
    {
      "cell_type": "code",
      "metadata": {
        "id": "rLHBcESt6fdo",
        "colab_type": "code",
        "colab": {}
      },
      "source": [
        "model1 = autoencoder().cuda()\n",
        "criterion = nn.MSELoss()\n",
        "optimizer = torch.optim.Adam(\n",
        "model1.parameters(), lr= 0.001)"
      ],
      "execution_count": 0,
      "outputs": []
    },
    {
      "cell_type": "code",
      "metadata": {
        "id": "hDOqvbWeWH56",
        "colab_type": "code",
        "outputId": "3f398b8c-bb9e-4d00-c84b-34f55a893da3",
        "colab": {
          "base_uri": "https://localhost:8080/",
          "height": 353
        }
      },
      "source": [
        "num_epochs = 20\n",
        "run_train_loss = []\n",
        "run_val_loss = []\n",
        "for epoch in range(num_epochs):\n",
        "    for data in train_loader:\n",
        "        img = data\n",
        "        img = img.view(img.size(0), -1)\n",
        "        img = Variable(img)\n",
        "        # ===================forward=====================\n",
        "        img = img.type(torch.FloatTensor).cuda()\n",
        "        output = model1(img)\n",
        "        loss = criterion(output, img)\n",
        "        # ===================backward====================\n",
        "        optimizer.zero_grad()\n",
        "        loss.backward()\n",
        "        optimizer.step()\n",
        "    \n",
        "    with torch.no_grad():\n",
        "        train_loss = 0\n",
        "        total_train = 0\n",
        "        for data in train_loader:\n",
        "            images = data\n",
        "            images = images.view(images.size(0), -1)\n",
        "            images = Variable(images)\n",
        "            images = images.type(torch.FloatTensor).cuda()\n",
        "            outputs = model1(images)\n",
        "            loss_train = criterion(outputs, images)\n",
        "            train_loss += loss_train\n",
        "            total_train += 1\n",
        "          \n",
        "    run_train_loss.append(train_loss/total_train)\n",
        "    with torch.no_grad():\n",
        "        val_loss = 0\n",
        "        total_val = 0\n",
        "        for data in val_loader:\n",
        "            images = data\n",
        "            images = images.view(images.size(0), -1)\n",
        "            images = Variable(images)\n",
        "            images = images.type(torch.FloatTensor).cuda()\n",
        "            outputs = model1(images)\n",
        "            loss_val = criterion(outputs, images)\n",
        "            val_loss += loss_val\n",
        "            total_val += 1\n",
        "    run_val_loss.append(val_loss/total_val)\n",
        "    \n",
        "            \n",
        "    # ===================log========================\n",
        "    print('epoch [{}/{}], train_loss:{:.4f}\\t val_loss:{:.4f}'\n",
        "          .format(epoch + 1, num_epochs, train_loss/total_train,val_loss/total_val))"
      ],
      "execution_count": 159,
      "outputs": [
        {
          "output_type": "stream",
          "text": [
            "epoch [1/20], train_loss:0.0159\t val_loss:0.0160\n",
            "epoch [2/20], train_loss:0.0140\t val_loss:0.0141\n",
            "epoch [3/20], train_loss:0.0133\t val_loss:0.0133\n",
            "epoch [4/20], train_loss:0.0130\t val_loss:0.0131\n",
            "epoch [5/20], train_loss:0.0129\t val_loss:0.0129\n",
            "epoch [6/20], train_loss:0.0128\t val_loss:0.0129\n",
            "epoch [7/20], train_loss:0.0126\t val_loss:0.0127\n",
            "epoch [8/20], train_loss:0.0126\t val_loss:0.0127\n",
            "epoch [9/20], train_loss:0.0126\t val_loss:0.0127\n",
            "epoch [10/20], train_loss:0.0126\t val_loss:0.0127\n",
            "epoch [11/20], train_loss:0.0125\t val_loss:0.0126\n",
            "epoch [12/20], train_loss:0.0125\t val_loss:0.0126\n",
            "epoch [13/20], train_loss:0.0126\t val_loss:0.0127\n",
            "epoch [14/20], train_loss:0.0125\t val_loss:0.0126\n",
            "epoch [15/20], train_loss:0.0125\t val_loss:0.0126\n",
            "epoch [16/20], train_loss:0.0125\t val_loss:0.0126\n",
            "epoch [17/20], train_loss:0.0125\t val_loss:0.0126\n",
            "epoch [18/20], train_loss:0.0125\t val_loss:0.0126\n",
            "epoch [19/20], train_loss:0.0125\t val_loss:0.0126\n",
            "epoch [20/20], train_loss:0.0125\t val_loss:0.0126\n"
          ],
          "name": "stdout"
        }
      ]
    },
    {
      "cell_type": "code",
      "metadata": {
        "id": "7665ESkWXrbY",
        "colab_type": "code",
        "outputId": "b2367c0a-fc09-4483-d1c4-d7b4791db51c",
        "colab": {
          "base_uri": "https://localhost:8080/",
          "height": 296
        }
      },
      "source": [
        "epoch = [i for i in range(1,len(run_train_loss)+1)]\n",
        "plt.plot(epoch,run_train_loss,'-r')\n",
        "plt.plot(epoch,run_val_loss,'-b')\n",
        "plt.title('Train and validation loss')\n",
        "plt.xlabel('n_iterations')\n",
        "plt.ylabel('Error')\n",
        "plt.gca().legend(('train loss','validation loss'))\n",
        "plt.show()"
      ],
      "execution_count": 160,
      "outputs": [
        {
          "output_type": "display_data",
          "data": {
            "image/png": "[encoded data removed]",
            "text/plain": [
              "<Figure size 432x288 with 1 Axes>"
            ]
          },
          "metadata": {
            "tags": []
          }
        }
      ]
    },
    {
      "cell_type": "code",
      "metadata": {
        "id": "1VJBTo9TA6QR",
        "colab_type": "code",
        "outputId": "1b1c4cc0-acbe-46d1-e55c-ad63c44f15a4",
        "colab": {
          "base_uri": "https://localhost:8080/",
          "height": 34
        }
      },
      "source": [
        "with torch.no_grad():\n",
        "        test_loss = 0\n",
        "        total_test = 0\n",
        "        for data in test_loader:\n",
        "            images = data\n",
        "            images = images.view(images.size(0), -1)\n",
        "            images = Variable(images)\n",
        "            images = images.type(torch.FloatTensor).cuda()\n",
        "            outputs = model1(images)\n",
        "            loss_test = criterion(outputs, images)\n",
        "            loss_test = loss_test.item()\n",
        "            test_loss += loss_test\n",
        "            total_test += 1\n",
        "Mse = test_loss/total_test\n",
        "print('MSE:',Mse)"
      ],
      "execution_count": 161,
      "outputs": [
        {
          "output_type": "stream",
          "text": [
            "MSE: 0.012463007733273279\n"
          ],
          "name": "stdout"
        }
      ]
    },
    {
      "cell_type": "code",
      "metadata": {
        "id": "Uj206EoE9zNN",
        "colab_type": "code",
        "colab": {}
      },
      "source": [
        "test_auto = model1(test_images.type(torch.FloatTensor).cuda())"
      ],
      "execution_count": 0,
      "outputs": []
    },
    {
      "cell_type": "code",
      "metadata": {
        "id": "FBppn33I99MP",
        "colab_type": "code",
        "outputId": "83ab61c0-4801-4597-b1f7-d1f51a2be87f",
        "colab": {
          "base_uri": "https://localhost:8080/",
          "height": 545
        }
      },
      "source": [
        "rand_no = np.random.randint(0,10000)\n",
        "plt.imshow(test_images[rand_no].view(28,28))\n",
        "plt.title('Original Image')\n",
        "plt.show()\n",
        "plt.imshow(test_auto[rand_no].data.cpu().view(28,28))\n",
        "plt.title('Auto encoder reconstruction')\n",
        "plt.show()"
      ],
      "execution_count": 163,
      "outputs": [
        {
          "output_type": "display_data",
          "data": {
            "image/png": "[encoded data removed]",
            "text/plain": [
              "<Figure size 432x288 with 1 Axes>"
            ]
          },
          "metadata": {
            "tags": []
          }
        },
        {
          "output_type": "display_data",
          "data": {
            "image/png": "[encoded data removed]",
            "text/plain": [
              "<Figure size 432x288 with 1 Axes>"
            ]
          },
          "metadata": {
            "tags": []
          }
        }
      ]
    },
    {
      "cell_type": "markdown",
      "metadata": {
        "id": "VnCsVAPbBLua",
        "colab_type": "text"
      },
      "source": [
        "**Hidden Units:128**"
      ]
    },
    {
      "cell_type": "code",
      "metadata": {
        "id": "llJ16ghPBR8-",
        "colab_type": "code",
        "colab": {}
      },
      "source": [
        "class autoencoder(nn.Module):\n",
        "    def __init__(self):\n",
        "        super(autoencoder, self).__init__()\n",
        "        self.encoder = nn.Sequential(\n",
        "            nn.Linear(28 * 28, 128),\n",
        "            nn.ReLU(True))\n",
        "        self.decoder = nn.Sequential(\n",
        "            nn.Linear(128, 784),\n",
        "            nn.ReLU(True))\n",
        "\n",
        "    def forward(self, x):\n",
        "        enc = self.encoder(x)\n",
        "        x = self.decoder(enc)\n",
        "        return enc,x\n"
      ],
      "execution_count": 0,
      "outputs": []
    },
    {
      "cell_type": "code",
      "metadata": {
        "id": "mcWqqdTvFA1o",
        "colab_type": "code",
        "colab": {}
      },
      "source": [
        "model2 = autoencoder().cuda()\n",
        "criterion = nn.MSELoss()\n",
        "optimizer = torch.optim.Adam(\n",
        "model2.parameters(), lr= 0.001)"
      ],
      "execution_count": 0,
      "outputs": []
    },
    {
      "cell_type": "code",
      "metadata": {
        "id": "oKzMBe5jCz8W",
        "colab_type": "code",
        "outputId": "a4efe010-1b06-4450-d997-9e319ed1d7ed",
        "colab": {
          "base_uri": "https://localhost:8080/",
          "height": 353
        }
      },
      "source": [
        "num_epochs = 20\n",
        "run_train_loss = []\n",
        "run_val_loss = []\n",
        "for epoch in range(num_epochs):\n",
        "    for data in train_loader:\n",
        "        img = data\n",
        "        img = img.view(img.size(0), -1)\n",
        "        img = Variable(img)\n",
        "        # ===================forward=====================\n",
        "        img = img.type(torch.FloatTensor).cuda()\n",
        "        _,output = model2(img)\n",
        "        loss = criterion(output, img)\n",
        "        # ===================backward====================\n",
        "        optimizer.zero_grad()\n",
        "        loss.backward()\n",
        "        optimizer.step()\n",
        "    \n",
        "    with torch.no_grad():\n",
        "        train_loss = 0\n",
        "        total_train = 0\n",
        "        for data in train_loader:\n",
        "            images = data\n",
        "            images = images.view(images.size(0), -1)\n",
        "            images = Variable(images)\n",
        "            images = images.type(torch.FloatTensor).cuda()\n",
        "            _,outputs = model2(images)\n",
        "            loss_train = criterion(outputs, images)\n",
        "            train_loss += loss_train\n",
        "            total_train += 1\n",
        "          \n",
        "    run_train_loss.append(train_loss/total_train)\n",
        "    with torch.no_grad():\n",
        "        val_loss = 0\n",
        "        total_val = 0\n",
        "        for data in val_loader:\n",
        "            images = data\n",
        "            images = images.view(images.size(0), -1)\n",
        "            images = Variable(images)\n",
        "            images = images.type(torch.FloatTensor).cuda()\n",
        "            _,outputs = model2(images)\n",
        "            loss_val = criterion(outputs, images)\n",
        "            val_loss += loss_val\n",
        "            total_val += 1\n",
        "    run_val_loss.append(val_loss/total_val)\n",
        "    \n",
        "            \n",
        "    # ===================log========================\n",
        "    print('epoch [{}/{}], train_loss:{:.4f}\\t val_loss:{:.4f}'\n",
        "          .format(epoch + 1, num_epochs, train_loss/total_train,val_loss/total_val))"
      ],
      "execution_count": 166,
      "outputs": [
        {
          "output_type": "stream",
          "text": [
            "epoch [1/20], train_loss:0.0111\t val_loss:0.0112\n",
            "epoch [2/20], train_loss:0.0096\t val_loss:0.0096\n",
            "epoch [3/20], train_loss:0.0091\t val_loss:0.0092\n",
            "epoch [4/20], train_loss:0.0090\t val_loss:0.0091\n",
            "epoch [5/20], train_loss:0.0089\t val_loss:0.0090\n",
            "epoch [6/20], train_loss:0.0088\t val_loss:0.0089\n",
            "epoch [7/20], train_loss:0.0087\t val_loss:0.0088\n",
            "epoch [8/20], train_loss:0.0087\t val_loss:0.0088\n",
            "epoch [9/20], train_loss:0.0087\t val_loss:0.0088\n",
            "epoch [10/20], train_loss:0.0086\t val_loss:0.0087\n",
            "epoch [11/20], train_loss:0.0086\t val_loss:0.0087\n",
            "epoch [12/20], train_loss:0.0086\t val_loss:0.0087\n",
            "epoch [13/20], train_loss:0.0086\t val_loss:0.0087\n",
            "epoch [14/20], train_loss:0.0085\t val_loss:0.0086\n",
            "epoch [15/20], train_loss:0.0086\t val_loss:0.0086\n",
            "epoch [16/20], train_loss:0.0085\t val_loss:0.0086\n",
            "epoch [17/20], train_loss:0.0085\t val_loss:0.0086\n",
            "epoch [18/20], train_loss:0.0085\t val_loss:0.0086\n",
            "epoch [19/20], train_loss:0.0085\t val_loss:0.0086\n",
            "epoch [20/20], train_loss:0.0085\t val_loss:0.0086\n"
          ],
          "name": "stdout"
        }
      ]
    },
    {
      "cell_type": "code",
      "metadata": {
        "id": "z-qhGFJKD0B_",
        "colab_type": "code",
        "outputId": "644ae766-e7c1-4249-925b-4617c5872ab0",
        "colab": {
          "base_uri": "https://localhost:8080/",
          "height": 296
        }
      },
      "source": [
        "epoch = [i for i in range(1,len(run_train_loss)+1)]\n",
        "plt.plot(epoch,run_train_loss,'-r')\n",
        "plt.plot(epoch,run_val_loss,'-b')\n",
        "plt.title('Train and validation loss')\n",
        "plt.xlabel('n_iterations')\n",
        "plt.ylabel('Error')\n",
        "plt.gca().legend(('train loss','validation loss'))\n",
        "plt.show()"
      ],
      "execution_count": 167,
      "outputs": [
        {
          "output_type": "display_data",
          "data": {
            "image/png": "[encoded data removed]",
            "text/plain": [
              "<Figure size 432x288 with 1 Axes>"
            ]
          },
          "metadata": {
            "tags": []
          }
        }
      ]
    },
    {
      "cell_type": "code",
      "metadata": {
        "id": "CuTXNbdsEEHw",
        "colab_type": "code",
        "outputId": "a14fe176-e92c-4905-b1dd-a409da5b0c82",
        "colab": {
          "base_uri": "https://localhost:8080/",
          "height": 34
        }
      },
      "source": [
        "with torch.no_grad():\n",
        "        test_loss = 0\n",
        "        total_test = 0\n",
        "        for data in test_loader:\n",
        "            images = data\n",
        "            images = images.view(images.size(0), -1)\n",
        "            images = Variable(images)\n",
        "            images = images.type(torch.FloatTensor).cuda()\n",
        "            _,outputs = model2(images)\n",
        "            loss_test = criterion(outputs, images)\n",
        "            loss_test = loss_test.item()\n",
        "            test_loss += loss_test\n",
        "            total_test += 1\n",
        "Mse = test_loss/total_test\n",
        "print('MSE:',Mse)"
      ],
      "execution_count": 168,
      "outputs": [
        {
          "output_type": "stream",
          "text": [
            "MSE: 0.008505119663325084\n"
          ],
          "name": "stdout"
        }
      ]
    },
    {
      "cell_type": "code",
      "metadata": {
        "id": "ZT3RaQ3KEL2y",
        "colab_type": "code",
        "colab": {}
      },
      "source": [
        "_,test_auto = model2(test_images.type(torch.FloatTensor).cuda())"
      ],
      "execution_count": 0,
      "outputs": []
    },
    {
      "cell_type": "code",
      "metadata": {
        "id": "tzo7dQruEc9S",
        "colab_type": "code",
        "outputId": "c76e901b-38f5-4504-e4e4-ecf4f71390b5",
        "colab": {
          "base_uri": "https://localhost:8080/",
          "height": 545
        }
      },
      "source": [
        "rand_no = np.random.randint(0,10000)\n",
        "plt.imshow(test_images[rand_no].view(28,28))\n",
        "plt.title('Original Image')\n",
        "plt.show()\n",
        "plt.imshow(test_auto[rand_no].data.cpu().view(28,28))\n",
        "plt.title('Auto encoder reconstruction')\n",
        "plt.show()"
      ],
      "execution_count": 170,
      "outputs": [
        {
          "output_type": "display_data",
          "data": {
            "image/png": "[encoded data removed]",
            "text/plain": [
              "<Figure size 432x288 with 1 Axes>"
            ]
          },
          "metadata": {
            "tags": []
          }
        },
        {
          "output_type": "display_data",
          "data": {
            "image/png": "[encoded data removed]",
            "text/plain": [
              "<Figure size 432x288 with 1 Axes>"
            ]
          },
          "metadata": {
            "tags": []
          }
        }
      ]
    },
    {
      "cell_type": "markdown",
      "metadata": {
        "id": "F7ByQnlTEpfq",
        "colab_type": "text"
      },
      "source": [
        "**Hidden Units:256**\n",
        "\n"
      ]
    },
    {
      "cell_type": "code",
      "metadata": {
        "id": "d7nvIi_uExD-",
        "colab_type": "code",
        "colab": {}
      },
      "source": [
        "class autoencoder(nn.Module):\n",
        "    def __init__(self):\n",
        "        super(autoencoder, self).__init__()\n",
        "        self.encoder = nn.Sequential(\n",
        "            nn.Linear(28 * 28, 256),\n",
        "            nn.ReLU(True))\n",
        "        self.decoder = nn.Sequential(\n",
        "            nn.Linear(256, 784),\n",
        "            nn.ReLU(True))\n",
        "\n",
        "    def forward(self, x):\n",
        "        x = self.encoder(x)\n",
        "        x = self.decoder(x)\n",
        "        return x\n"
      ],
      "execution_count": 0,
      "outputs": []
    },
    {
      "cell_type": "code",
      "metadata": {
        "id": "RX2u2JdxE3Im",
        "colab_type": "code",
        "colab": {}
      },
      "source": [
        "model3 = autoencoder().cuda()\n",
        "criterion = nn.MSELoss()\n",
        "optimizer = torch.optim.Adam(\n",
        "model3.parameters(), lr= 0.001)"
      ],
      "execution_count": 0,
      "outputs": []
    },
    {
      "cell_type": "code",
      "metadata": {
        "id": "6dWrBIduFVL-",
        "colab_type": "code",
        "outputId": "24fdd911-a9cf-4ca8-b21f-04b3826ae9ff",
        "colab": {
          "base_uri": "https://localhost:8080/",
          "height": 353
        }
      },
      "source": [
        "num_epochs = 20\n",
        "run_train_loss = []\n",
        "run_val_loss = []\n",
        "for epoch in range(num_epochs):\n",
        "    for data in train_loader:\n",
        "        img = data\n",
        "        img = img.view(img.size(0), -1)\n",
        "        img = Variable(img)\n",
        "        # ===================forward=====================\n",
        "        img = img.type(torch.FloatTensor).cuda()\n",
        "        output = model3(img)\n",
        "        loss = criterion(output, img)\n",
        "        # ===================backward====================\n",
        "        optimizer.zero_grad()\n",
        "        loss.backward()\n",
        "        optimizer.step()\n",
        "    \n",
        "    with torch.no_grad():\n",
        "        train_loss = 0\n",
        "        total_train = 0\n",
        "        for data in train_loader:\n",
        "            images = data\n",
        "            images = images.view(images.size(0), -1)\n",
        "            images = Variable(images)\n",
        "            images = images.type(torch.FloatTensor).cuda()\n",
        "            outputs = model3(images)\n",
        "            loss_train = criterion(outputs, images)\n",
        "            train_loss += loss_train\n",
        "            total_train += 1\n",
        "          \n",
        "    run_train_loss.append(train_loss/total_train)\n",
        "    with torch.no_grad():\n",
        "        val_loss = 0\n",
        "        total_val = 0\n",
        "        for data in val_loader:\n",
        "            images = data\n",
        "            images = images.view(images.size(0), -1)\n",
        "            images = Variable(images)\n",
        "            images = images.type(torch.FloatTensor).cuda()\n",
        "            outputs = model3(images)\n",
        "            loss_val = criterion(outputs, images)\n",
        "            val_loss += loss_val\n",
        "            total_val += 1\n",
        "    run_val_loss.append(val_loss/total_val)\n",
        "    \n",
        "            \n",
        "    # ===================log========================\n",
        "    print('epoch [{}/{}], train_loss:{:.4f}\\t val_loss:{:.4f}'\n",
        "          .format(epoch + 1, num_epochs, train_loss/total_train,val_loss/total_val))"
      ],
      "execution_count": 0,
      "outputs": [
        {
          "output_type": "stream",
          "text": [
            "epoch [1/20], train_loss:0.0089\t val_loss:0.0090\n",
            "epoch [2/20], train_loss:0.0078\t val_loss:0.0079\n",
            "epoch [3/20], train_loss:0.0074\t val_loss:0.0075\n",
            "epoch [4/20], train_loss:0.0072\t val_loss:0.0073\n",
            "epoch [5/20], train_loss:0.0071\t val_loss:0.0072\n",
            "epoch [6/20], train_loss:0.0070\t val_loss:0.0071\n",
            "epoch [7/20], train_loss:0.0070\t val_loss:0.0071\n",
            "epoch [8/20], train_loss:0.0070\t val_loss:0.0071\n",
            "epoch [9/20], train_loss:0.0070\t val_loss:0.0071\n",
            "epoch [10/20], train_loss:0.0070\t val_loss:0.0070\n",
            "epoch [11/20], train_loss:0.0069\t val_loss:0.0070\n",
            "epoch [12/20], train_loss:0.0069\t val_loss:0.0070\n",
            "epoch [13/20], train_loss:0.0069\t val_loss:0.0070\n",
            "epoch [14/20], train_loss:0.0069\t val_loss:0.0070\n",
            "epoch [15/20], train_loss:0.0069\t val_loss:0.0070\n",
            "epoch [16/20], train_loss:0.0069\t val_loss:0.0070\n",
            "epoch [17/20], train_loss:0.0069\t val_loss:0.0070\n",
            "epoch [18/20], train_loss:0.0068\t val_loss:0.0069\n",
            "epoch [19/20], train_loss:0.0069\t val_loss:0.0069\n",
            "epoch [20/20], train_loss:0.0069\t val_loss:0.0070\n"
          ],
          "name": "stdout"
        }
      ]
    },
    {
      "cell_type": "code",
      "metadata": {
        "id": "1cwoe5QbFYCU",
        "colab_type": "code",
        "outputId": "f717bfa7-6bb8-47c9-e4ff-2095dbe3b2ba",
        "colab": {
          "base_uri": "https://localhost:8080/",
          "height": 296
        }
      },
      "source": [
        "epoch = [i for i in range(1,len(run_train_loss)+1)]\n",
        "plt.plot(epoch,run_train_loss,'-r')\n",
        "plt.plot(epoch,run_val_loss,'-b')\n",
        "plt.title('Train and validation loss')\n",
        "plt.xlabel('n_iterations')\n",
        "plt.ylabel('Error')\n",
        "plt.gca().legend(('train loss','validation loss'))\n",
        "plt.show()"
      ],
      "execution_count": 0,
      "outputs": [
        {
          "output_type": "display_data",
          "data": {
            "image/png": "[encoded data removed]",
            "text/plain": [
              "<Figure size 432x288 with 1 Axes>"
            ]
          },
          "metadata": {
            "tags": []
          }
        }
      ]
    },
    {
      "cell_type": "code",
      "metadata": {
        "id": "PndEzxCQFbb_",
        "colab_type": "code",
        "outputId": "6931c3de-7444-4e92-a5f2-599c2d81a728",
        "colab": {
          "base_uri": "https://localhost:8080/",
          "height": 34
        }
      },
      "source": [
        "with torch.no_grad():\n",
        "        test_loss = 0\n",
        "        total_test = 0\n",
        "        for data in test_loader:\n",
        "            images = data\n",
        "            images = images.view(images.size(0), -1)\n",
        "            images = Variable(images)\n",
        "            images = images.type(torch.FloatTensor).cuda()\n",
        "            outputs = model3(images)\n",
        "            loss_test = criterion(outputs, images)\n",
        "            loss_test = loss_test.item()\n",
        "            test_loss += loss_test\n",
        "            total_test += 1\n",
        "Mse = test_loss/total_test\n",
        "print('MSE:',Mse)"
      ],
      "execution_count": 0,
      "outputs": [
        {
          "output_type": "stream",
          "text": [
            "MSE: 0.006792765552664448\n"
          ],
          "name": "stdout"
        }
      ]
    },
    {
      "cell_type": "code",
      "metadata": {
        "id": "HQtUXypxFhVg",
        "colab_type": "code",
        "colab": {}
      },
      "source": [
        "test_auto = model3(test_images.type(torch.FloatTensor).cuda())"
      ],
      "execution_count": 0,
      "outputs": []
    },
    {
      "cell_type": "code",
      "metadata": {
        "id": "DZqr3ROgFkRd",
        "colab_type": "code",
        "outputId": "5af7d5bc-2332-460a-e3eb-b1c85b7e6a73",
        "colab": {
          "base_uri": "https://localhost:8080/",
          "height": 545
        }
      },
      "source": [
        "rand_no = np.random.randint(0,10000)\n",
        "plt.imshow(test_images[rand_no].view(28,28))\n",
        "plt.title('Original Image')\n",
        "plt.show()\n",
        "plt.imshow(test_auto[rand_no].data.cpu().view(28,28))\n",
        "plt.title('Auto encoder reconstruction')\n",
        "plt.show()"
      ],
      "execution_count": 0,
      "outputs": [
        {
          "output_type": "display_data",
          "data": {
            "image/png": "[encoded data removed]",
            "text/plain": [
              "<Figure size 432x288 with 1 Axes>"
            ]
          },
          "metadata": {
            "tags": []
          }
        },
        {
          "output_type": "display_data",
          "data": {
            "image/png": "[encoded data removed]",
            "text/plain": [
              "<Figure size 432x288 with 1 Axes>"
            ]
          },
          "metadata": {
            "tags": []
          }
        }
      ]
    },
    {
      "cell_type": "code",
      "metadata": {
        "id": "Qir79lHaHHXz",
        "colab_type": "code",
        "outputId": "c3f2888e-7712-48e8-d674-989df573aeec",
        "colab": {
          "base_uri": "https://localhost:8080/",
          "height": 545
        }
      },
      "source": [
        "random_noise = torch.Tensor(np.random.normal(0,0.1,(28,28)))\n",
        "plt.imshow(random_noise)\n",
        "plt.title('Noise')\n",
        "plt.show()\n",
        "plt.imshow(model2(random_noise.view(784).cuda())[1].view(28,28).cpu().data)\n",
        "plt.title('Generated Image by autoencoder')\n",
        "plt.show()"
      ],
      "execution_count": 272,
      "outputs": [
        {
          "output_type": "display_data",
          "data": {
            "image/png": "[encoded data removed]",
            "text/plain": [
              "<Figure size 432x288 with 1 Axes>"
            ]
          },
          "metadata": {
            "tags": []
          }
        },
        {
          "output_type": "display_data",
          "data": {
            "image/png": "[encoded data removed]",
            "text/plain": [
              "<Figure size 432x288 with 1 Axes>"
            ]
          },
          "metadata": {
            "tags": []
          }
        }
      ]
    },
    {
      "cell_type": "markdown",
      "metadata": {
        "id": "O9Lv0qnEkAx3",
        "colab_type": "text"
      },
      "source": [
        "Reconstruction Accuracy increases as we increase the hidden unit dimension from 64  to 256. However this will saturate later as the correct manifold dimension is learned.\n",
        "When we pass random noise we get image which look almost like a digit in few cases."
      ]
    },
    {
      "cell_type": "markdown",
      "metadata": {
        "id": "Kn6mdes7G0NN",
        "colab_type": "text"
      },
      "source": [
        "# Sparse Autoencoders"
      ]
    },
    {
      "cell_type": "markdown",
      "metadata": {
        "id": "wAefXpQ7qgLm",
        "colab_type": "text"
      },
      "source": [
        ""
      ]
    },
    {
      "cell_type": "code",
      "metadata": {
        "id": "YFXHu_mfG6iq",
        "colab_type": "code",
        "colab": {}
      },
      "source": [
        "class sparse_autoencoder(nn.Module):\n",
        "    def __init__(self):\n",
        "        super(sparse_autoencoder, self).__init__()\n",
        "        self.encoder = nn.Sequential(\n",
        "            nn.Linear(28 * 28, 128),\n",
        "            nn.ReLU(True))\n",
        "        self.decoder = nn.Sequential(\n",
        "            nn.Linear(128, 784),\n",
        "            nn.ReLU(True))\n",
        "\n",
        "    def forward(self, x):\n",
        "        encoded = self.encoder(x)\n",
        "        decoded = self.decoder(encoded)\n",
        "        return encoded,decoded\n"
      ],
      "execution_count": 0,
      "outputs": []
    },
    {
      "cell_type": "code",
      "metadata": {
        "id": "jUO18RouM0LU",
        "colab_type": "code",
        "colab": {}
      },
      "source": [
        "model4 = sparse_autoencoder().cuda()\n",
        "criterion = nn.MSELoss()\n",
        "optimizer = torch.optim.Adam(\n",
        "model4.parameters(), lr= 0.001)"
      ],
      "execution_count": 0,
      "outputs": []
    },
    {
      "cell_type": "code",
      "metadata": {
        "id": "RczzRYKYM7_C",
        "colab_type": "code",
        "outputId": "6bae0dca-8868-4c75-9c5e-f760d110df82",
        "colab": {
          "base_uri": "https://localhost:8080/",
          "height": 353
        }
      },
      "source": [
        "beta = 0.05\n",
        "num_epochs = 20\n",
        "run_train_loss = []\n",
        "run_val_loss = []\n",
        "for epoch in range(num_epochs):\n",
        "    for data in train_loader:\n",
        "        img = data\n",
        "        img = img.view(img.size(0), -1)\n",
        "        img = Variable(img)\n",
        "        # ===================forward=====================\n",
        "        img = img.type(torch.FloatTensor).cuda()\n",
        "        enc_output,dec_output = model4(img)\n",
        "        loss = criterion(dec_output, img)\n",
        "        sparse_loss = beta*torch.mean(abs(enc_output))\n",
        "        total_loss = loss + sparse_loss\n",
        "        # ===================backward====================\n",
        "        optimizer.zero_grad()\n",
        "        total_loss.backward()\n",
        "        optimizer.step()\n",
        "    \n",
        "    with torch.no_grad():\n",
        "        train_loss = 0\n",
        "        total_train = 0\n",
        "        for data in train_loader:\n",
        "            images = data\n",
        "            images = images.view(images.size(0), -1)\n",
        "            images = Variable(images)\n",
        "            images = images.type(torch.FloatTensor).cuda()\n",
        "            enc_outputs,dec_outputs = model4(images)\n",
        "            loss_train = criterion(dec_outputs, images)\n",
        "            sparse_loss_train = beta*torch.mean(abs(enc_outputs))\n",
        "            total_loss_train = loss_train+sparse_loss\n",
        "            train_loss += total_loss_train\n",
        "            total_train += 1\n",
        "          \n",
        "    run_train_loss.append(train_loss/total_train)\n",
        "    with torch.no_grad():\n",
        "        val_loss = 0\n",
        "        total_val = 0\n",
        "        for data in val_loader:\n",
        "            images = data\n",
        "            images = images.view(images.size(0), -1)\n",
        "            images = Variable(images)\n",
        "            images = images.type(torch.FloatTensor).cuda()\n",
        "            enc_outputs,dec_outputs = model4(images)\n",
        "            loss_val = criterion(dec_outputs, images)\n",
        "            sparse_loss_val = beta*torch.mean(abs(enc_outputs))\n",
        "            total_loss_val = loss_val+sparse_loss_val\n",
        "            val_loss += total_loss_val\n",
        "            total_val += 1\n",
        "    run_val_loss.append(val_loss/total_val)\n",
        "    \n",
        "            \n",
        "    # ===================log========================\n",
        "    print('epoch [{}/{}], train_loss:{:.4f}\\t val_loss:{:.4f}'\n",
        "          .format(epoch + 1, num_epochs, train_loss/total_train,val_loss/total_val))"
      ],
      "execution_count": 173,
      "outputs": [
        {
          "output_type": "stream",
          "text": [
            "epoch [1/20], train_loss:0.0201\t val_loss:0.0206\n",
            "epoch [2/20], train_loss:0.0172\t val_loss:0.0175\n",
            "epoch [3/20], train_loss:0.0158\t val_loss:0.0161\n",
            "epoch [4/20], train_loss:0.0146\t val_loss:0.0152\n",
            "epoch [5/20], train_loss:0.0146\t val_loss:0.0145\n",
            "epoch [6/20], train_loss:0.0142\t val_loss:0.0140\n",
            "epoch [7/20], train_loss:0.0133\t val_loss:0.0136\n",
            "epoch [8/20], train_loss:0.0133\t val_loss:0.0133\n",
            "epoch [9/20], train_loss:0.0130\t val_loss:0.0135\n",
            "epoch [10/20], train_loss:0.0130\t val_loss:0.0131\n",
            "epoch [11/20], train_loss:0.0129\t val_loss:0.0129\n",
            "epoch [12/20], train_loss:0.0126\t val_loss:0.0127\n",
            "epoch [13/20], train_loss:0.0127\t val_loss:0.0127\n",
            "epoch [14/20], train_loss:0.0129\t val_loss:0.0126\n",
            "epoch [15/20], train_loss:0.0125\t val_loss:0.0129\n",
            "epoch [16/20], train_loss:0.0126\t val_loss:0.0125\n",
            "epoch [17/20], train_loss:0.0127\t val_loss:0.0124\n",
            "epoch [18/20], train_loss:0.0122\t val_loss:0.0123\n",
            "epoch [19/20], train_loss:0.0123\t val_loss:0.0123\n",
            "epoch [20/20], train_loss:0.0119\t val_loss:0.0121\n"
          ],
          "name": "stdout"
        }
      ]
    },
    {
      "cell_type": "markdown",
      "metadata": {
        "id": "Ro73n7jhAs5s",
        "colab_type": "text"
      },
      "source": [
        "**Visualizing the weights/filters of Sparse Autoencoder and Normal encoder**"
      ]
    },
    {
      "cell_type": "code",
      "metadata": {
        "id": "IRUHXWX_-K5d",
        "colab_type": "code",
        "colab": {}
      },
      "source": [
        "params = []\n",
        "for i in model4.parameters():\n",
        "  params.append(i)"
      ],
      "execution_count": 0,
      "outputs": []
    },
    {
      "cell_type": "code",
      "metadata": {
        "id": "JfxRIVpS-7wz",
        "colab_type": "code",
        "outputId": "b3c1abd3-2b8d-4ebd-fdcd-252ff80fefc1",
        "colab": {
          "base_uri": "https://localhost:8080/",
          "height": 119
        }
      },
      "source": [
        "plt.imshow(params[0].cpu().data,'gray')\n",
        "plt.title('Filter of Sparse Autoencoder')\n",
        "plt.show()"
      ],
      "execution_count": 175,
      "outputs": [
        {
          "output_type": "display_data",
          "data": {
            "image/png": "[encoded data removed]",
            "text/plain": [
              "<Figure size 432x288 with 1 Axes>"
            ]
          },
          "metadata": {
            "tags": []
          }
        }
      ]
    },
    {
      "cell_type": "code",
      "metadata": {
        "id": "PF70Kz8-_P-k",
        "colab_type": "code",
        "colab": {}
      },
      "source": [
        "params = []\n",
        "for i in model2.parameters():\n",
        "  params.append(i)"
      ],
      "execution_count": 0,
      "outputs": []
    },
    {
      "cell_type": "code",
      "metadata": {
        "id": "BMQgk7Wm_Tb7",
        "colab_type": "code",
        "outputId": "69df7e10-672f-412f-977b-94057ef50d05",
        "colab": {
          "base_uri": "https://localhost:8080/",
          "height": 119
        }
      },
      "source": [
        "plt.imshow(params[0].cpu().data,'gray')\n",
        "plt.title('Filter of Normal Autoencoder')\n",
        "plt.show()"
      ],
      "execution_count": 178,
      "outputs": [
        {
          "output_type": "display_data",
          "data": {
            "image/png": "[encoded data removed]",
            "text/plain": [
              "<Figure size 432x288 with 1 Axes>"
            ]
          },
          "metadata": {
            "tags": []
          }
        }
      ]
    },
    {
      "cell_type": "markdown",
      "metadata": {
        "id": "s-itgpJfUE4o",
        "colab_type": "text"
      },
      "source": [
        "From above plots, we can see that filters of Sparse Autoencoders are more sparse they have more black pixels as compared to Normal Autoencoders "
      ]
    },
    {
      "cell_type": "markdown",
      "metadata": {
        "id": "pkJRfnKtxS3C",
        "colab_type": "text"
      },
      "source": [
        "**Visualizing Hidden layer encoding for Auto encoders and Sparse Encoders**"
      ]
    },
    {
      "cell_type": "code",
      "metadata": {
        "id": "lngZ61NVNAQo",
        "colab_type": "code",
        "outputId": "e0d91b58-4a31-4d89-c208-d5c0a3bfe88c",
        "colab": {
          "base_uri": "https://localhost:8080/",
          "height": 248
        }
      },
      "source": [
        "rand_no = np.random.randint(0,10000)\n",
        "plt.imshow(model4(test_images[rand_no].type(torch.FloatTensor).cuda())[0].cpu().data.view(8,16),'gray')\n",
        "plt.title('Sparse Autoencoder Hidden unit(128) plotted as 8*16 matrix')"
      ],
      "execution_count": 179,
      "outputs": [
        {
          "output_type": "execute_result",
          "data": {
            "text/plain": [
              "Text(0.5, 1.0, 'Sparse Autoencoder Hidden unit(128) plotted as 8*16 matrix')"
            ]
          },
          "metadata": {
            "tags": []
          },
          "execution_count": 179
        },
        {
          "output_type": "display_data",
          "data": {
            "image/png": "[encoded data removed]",
            "text/plain": [
              "<Figure size 432x288 with 1 Axes>"
            ]
          },
          "metadata": {
            "tags": []
          }
        }
      ]
    },
    {
      "cell_type": "markdown",
      "metadata": {
        "id": "MA5-uHIFVtlT",
        "colab_type": "text"
      },
      "source": [
        "**Average Hidden activation in Sparse Autoencoder**"
      ]
    },
    {
      "cell_type": "code",
      "metadata": {
        "id": "r2HB4LhTRI5X",
        "colab_type": "code",
        "colab": {
          "base_uri": "https://localhost:8080/",
          "height": 34
        },
        "outputId": "c69aed05-3afa-4c6b-eb53-5c50160afe24"
      },
      "source": [
        "print(torch.mean(model4(test_images[rand_no].type(torch.FloatTensor).cuda())[0].cpu().data))"
      ],
      "execution_count": 191,
      "outputs": [
        {
          "output_type": "stream",
          "text": [
            "tensor(0.0458)\n"
          ],
          "name": "stdout"
        }
      ]
    },
    {
      "cell_type": "code",
      "metadata": {
        "id": "ZtzH_y8trbKw",
        "colab_type": "code",
        "outputId": "114428f6-95fc-451c-c0d5-ed33953eb58b",
        "colab": {
          "base_uri": "https://localhost:8080/",
          "height": 248
        }
      },
      "source": [
        "plt.imshow(model2(test_images[rand_no].type(torch.FloatTensor).cuda())[0].cpu().data.view(8,16),'gray')\n",
        "plt.title('Normal Autoencoder Hidden unit(128) plotted as 8*16 matrix')"
      ],
      "execution_count": 192,
      "outputs": [
        {
          "output_type": "execute_result",
          "data": {
            "text/plain": [
              "Text(0.5, 1.0, 'Normal Autoencoder Hidden unit(128) plotted as 8*16 matrix')"
            ]
          },
          "metadata": {
            "tags": []
          },
          "execution_count": 192
        },
        {
          "output_type": "display_data",
          "data": {
            "image/png": "[encoded data removed]",
            "text/plain": [
              "<Figure size 432x288 with 1 Axes>"
            ]
          },
          "metadata": {
            "tags": []
          }
        }
      ]
    },
    {
      "cell_type": "markdown",
      "metadata": {
        "id": "1PXqFh0hWBbl",
        "colab_type": "text"
      },
      "source": [
        "**Average Hidden activation in Normal Autoencoder**"
      ]
    },
    {
      "cell_type": "code",
      "metadata": {
        "id": "0wGbOFHORd6r",
        "colab_type": "code",
        "colab": {
          "base_uri": "https://localhost:8080/",
          "height": 34
        },
        "outputId": "c3c781de-e608-4a8b-b582-676e4f859422"
      },
      "source": [
        "print(torch.mean(model2(test_images[rand_no].type(torch.FloatTensor).cuda())[0].cpu().data))"
      ],
      "execution_count": 194,
      "outputs": [
        {
          "output_type": "stream",
          "text": [
            "tensor(0.5009)\n"
          ],
          "name": "stdout"
        }
      ]
    },
    {
      "cell_type": "markdown",
      "metadata": {
        "id": "NompGLjWzOzA",
        "colab_type": "text"
      },
      "source": [
        "Comparing the Hidden units of Normal Autoencoders with Sparse Autoencoders, We observe that there are lot of black pixels(Zero Values) in Sparse Autoencoder indicating Sparsity in it. Also, comparing the avg hidden activation, we can see that it is less in sparse autoencoder(0.0458) than normal autoencoder(0.5009)."
      ]
    },
    {
      "cell_type": "markdown",
      "metadata": {
        "id": "5aQICiP4z6CB",
        "colab_type": "text"
      },
      "source": [
        "# 4. Denoising Autoencoders"
      ]
    },
    {
      "cell_type": "markdown",
      "metadata": {
        "id": "pWdHlgm5YaB5",
        "colab_type": "text"
      },
      "source": [
        "**Sigma = 0.3**"
      ]
    },
    {
      "cell_type": "code",
      "metadata": {
        "id": "GRU9QDOTIOt0",
        "colab_type": "code",
        "colab": {}
      },
      "source": [
        "class denoising_autoencoder(nn.Module):\n",
        "    def __init__(self):\n",
        "        super(denoising_autoencoder, self).__init__()\n",
        "        self.encoder = nn.Sequential(\n",
        "            nn.Linear(28 * 28, 128),\n",
        "            nn.ReLU(True))\n",
        "        self.decoder = nn.Sequential(\n",
        "            nn.Linear(128, 784),\n",
        "            nn.ReLU(True))\n",
        "\n",
        "    def forward(self, x):\n",
        "        enc = self.encoder(x)\n",
        "        x = self.decoder(enc)\n",
        "        return enc,x\n"
      ],
      "execution_count": 0,
      "outputs": []
    },
    {
      "cell_type": "code",
      "metadata": {
        "id": "rveSiNDNItlN",
        "colab_type": "code",
        "colab": {}
      },
      "source": [
        "model5 = denoising_autoencoder().cuda()\n",
        "criterion = nn.MSELoss()\n",
        "optimizer = torch.optim.Adam(\n",
        "model5.parameters(), lr= 0.001)"
      ],
      "execution_count": 0,
      "outputs": []
    },
    {
      "cell_type": "code",
      "metadata": {
        "id": "uLjbpvLxPaFl",
        "colab_type": "code",
        "outputId": "fe9ae16a-c087-4315-89d4-47a145d45d0b",
        "colab": {
          "base_uri": "https://localhost:8080/",
          "height": 353
        }
      },
      "source": [
        "beta = 0.05\n",
        "num_epochs = 20\n",
        "run_train_loss = []\n",
        "run_val_loss = []\n",
        "for epoch in range(num_epochs):\n",
        "    for data in train_loader:\n",
        "        img = data\n",
        "        img = img.view(img.size(0), -1)\n",
        "        img = Variable(img).cuda()\n",
        "        img1 = img  + torch.Tensor(np.random.normal(0,0.3,(img.size(0),784))).cuda()\n",
        "        # ===================forward=====================\n",
        "        img1 = img1.type(torch.FloatTensor).cuda()\n",
        "        enc_output,dec_output = model5(img1)\n",
        "        loss = criterion(dec_output, img)\n",
        "        # ===================backward====================\n",
        "        optimizer.zero_grad()\n",
        "        loss.backward()\n",
        "        optimizer.step()\n",
        "    \n",
        "    with torch.no_grad():\n",
        "        train_loss = 0\n",
        "        total_train = 0\n",
        "        for data in train_loader:\n",
        "            images = data\n",
        "            images = images.view(images.size(0), -1)\n",
        "            images = Variable(images)\n",
        "            images = images.type(torch.FloatTensor).cuda()\n",
        "            images1 = images + torch.Tensor(np.random.normal(0,0.3,(images.size(0),784))).cuda()\n",
        "            enc_outputs,dec_outputs = model5(images1)\n",
        "            loss_train = criterion(dec_outputs, images)\n",
        "            train_loss += loss_train\n",
        "            total_train += 1\n",
        "          \n",
        "    run_train_loss.append(train_loss/total_train)\n",
        "    with torch.no_grad():\n",
        "        val_loss = 0\n",
        "        total_val = 0\n",
        "        for data in val_loader:\n",
        "            images = data\n",
        "            images = images.view(images.size(0), -1)\n",
        "            images = Variable(images)\n",
        "            images = images.type(torch.FloatTensor).cuda()\n",
        "            images1 = images + torch.Tensor(np.random.normal(0,0.3,(images.size(0),784))).cuda()\n",
        "            enc_outputs,dec_outputs = model5(images1)\n",
        "            loss_val = criterion(dec_outputs, images)\n",
        "            val_loss += loss_val\n",
        "            total_val += 1\n",
        "    run_val_loss.append(val_loss/total_val)\n",
        "    \n",
        "            \n",
        "    # ===================log========================\n",
        "    print('epoch [{}/{}], train_loss:{:.4f}\\t val_loss:{:.4f}'\n",
        "          .format(epoch + 1, num_epochs, train_loss/total_train,val_loss/total_val))"
      ],
      "execution_count": 0,
      "outputs": [
        {
          "output_type": "stream",
          "text": [
            "epoch [1/20], train_loss:0.0158\t val_loss:0.0158\n",
            "epoch [2/20], train_loss:0.0149\t val_loss:0.0149\n",
            "epoch [3/20], train_loss:0.0145\t val_loss:0.0146\n",
            "epoch [4/20], train_loss:0.0144\t val_loss:0.0145\n",
            "epoch [5/20], train_loss:0.0142\t val_loss:0.0143\n",
            "epoch [6/20], train_loss:0.0141\t val_loss:0.0142\n",
            "epoch [7/20], train_loss:0.0141\t val_loss:0.0142\n",
            "epoch [8/20], train_loss:0.0140\t val_loss:0.0142\n",
            "epoch [9/20], train_loss:0.0140\t val_loss:0.0141\n",
            "epoch [10/20], train_loss:0.0139\t val_loss:0.0140\n",
            "epoch [11/20], train_loss:0.0139\t val_loss:0.0140\n",
            "epoch [12/20], train_loss:0.0139\t val_loss:0.0140\n",
            "epoch [13/20], train_loss:0.0140\t val_loss:0.0141\n",
            "epoch [14/20], train_loss:0.0139\t val_loss:0.0140\n",
            "epoch [15/20], train_loss:0.0139\t val_loss:0.0140\n",
            "epoch [16/20], train_loss:0.0138\t val_loss:0.0139\n",
            "epoch [17/20], train_loss:0.0138\t val_loss:0.0139\n",
            "epoch [18/20], train_loss:0.0138\t val_loss:0.0139\n",
            "epoch [19/20], train_loss:0.0138\t val_loss:0.0139\n",
            "epoch [20/20], train_loss:0.0138\t val_loss:0.0139\n"
          ],
          "name": "stdout"
        }
      ]
    },
    {
      "cell_type": "code",
      "metadata": {
        "id": "aod0AsXgQ5Z-",
        "colab_type": "code",
        "outputId": "6d2ecb49-a9a3-45c6-9f5b-72e72125d4f0",
        "colab": {
          "base_uri": "https://localhost:8080/",
          "height": 296
        }
      },
      "source": [
        "epoch = [i for i in range(1,len(run_train_loss)+1)]\n",
        "plt.plot(epoch,run_train_loss,'-r')\n",
        "plt.plot(epoch,run_val_loss,'-b')\n",
        "plt.title('Train and validation loss')\n",
        "plt.xlabel('n_iterations')\n",
        "plt.ylabel('Error')\n",
        "plt.gca().legend(('train loss','validation loss'))\n",
        "plt.show()"
      ],
      "execution_count": 0,
      "outputs": [
        {
          "output_type": "display_data",
          "data": {
            "image/png": "[encoded data removed]",
            "text/plain": [
              "<Figure size 432x288 with 1 Axes>"
            ]
          },
          "metadata": {
            "tags": []
          }
        }
      ]
    },
    {
      "cell_type": "code",
      "metadata": {
        "id": "vXat3FM1RQ9Z",
        "colab_type": "code",
        "outputId": "e7df591e-7393-40fe-82c2-72c457e51aa1",
        "colab": {
          "base_uri": "https://localhost:8080/",
          "height": 34
        }
      },
      "source": [
        "with torch.no_grad():\n",
        "        test_loss = 0\n",
        "        total_test = 0\n",
        "        for data in test_loader:\n",
        "            images = data\n",
        "            images = images.view(images.size(0), -1)\n",
        "            images = Variable(images)\n",
        "            images = images.type(torch.FloatTensor).cuda()\n",
        "            _,outputs = model5(images)\n",
        "            loss_test = criterion(outputs, images)\n",
        "            loss_test = loss_test.item()\n",
        "            test_loss += loss_test\n",
        "            total_test += 1\n",
        "Mse = test_loss/total_test\n",
        "print('MSE:',Mse)"
      ],
      "execution_count": 0,
      "outputs": [
        {
          "output_type": "stream",
          "text": [
            "MSE: 0.009406479582736257\n"
          ],
          "name": "stdout"
        }
      ]
    },
    {
      "cell_type": "code",
      "metadata": {
        "id": "uGyd8BTRRSrW",
        "colab_type": "code",
        "outputId": "b6fa9bac-3122-4edf-8fff-db7598654ee8",
        "colab": {
          "base_uri": "https://localhost:8080/",
          "height": 545
        }
      },
      "source": [
        "rand_no = np.random.randint(0,10000)\n",
        "plt.imshow((test_images[rand_no]+torch.Tensor(np.random.normal(0,0.3,(784)))).view(28,28))\n",
        "plt.title('Noisy Image')\n",
        "plt.show()\n",
        "plt.imshow(model5((test_images[rand_no]+torch.Tensor(np.random.normal(0,0.3,(784)))).cuda())[1].cpu().data.view(28,28))\n",
        "plt.title('Output of Denoising Autoencoder')\n",
        "plt.show()"
      ],
      "execution_count": 0,
      "outputs": [
        {
          "output_type": "display_data",
          "data": {
            "image/png": "[encoded data removed]",
            "text/plain": [
              "<Figure size 432x288 with 1 Axes>"
            ]
          },
          "metadata": {
            "tags": []
          }
        },
        {
          "output_type": "display_data",
          "data": {
            "image/png": "[encoded data removed]",
            "text/plain": [
              "<Figure size 432x288 with 1 Axes>"
            ]
          },
          "metadata": {
            "tags": []
          }
        }
      ]
    },
    {
      "cell_type": "code",
      "metadata": {
        "colab_type": "code",
        "outputId": "7ce2318f-4fa1-4f56-bb8b-e761db75a910",
        "id": "L-RFmu26f3cY",
        "colab": {
          "base_uri": "https://localhost:8080/",
          "height": 281
        }
      },
      "source": [
        "\n",
        "noisy_image = test_images[rand_no] + torch.Tensor(np.random.normal(0,0.3,(784)))\n",
        "plt.imshow(noisy_image.view(28,28))\n",
        "plt.title('Noisy Image with sigma = 0.3')\n",
        "plt.show()"
      ],
      "execution_count": 0,
      "outputs": [
        {
          "output_type": "display_data",
          "data": {
            "image/png": "[encoded data removed]",
            "text/plain": [
              "<Figure size 432x288 with 1 Axes>"
            ]
          },
          "metadata": {
            "tags": []
          }
        }
      ]
    },
    {
      "cell_type": "code",
      "metadata": {
        "id": "OG6WfHMqaiie",
        "colab_type": "code",
        "outputId": "2695b15a-42d2-45a1-da7e-36de8fbe647b",
        "colab": {
          "base_uri": "https://localhost:8080/",
          "height": 298
        }
      },
      "source": [
        "denoised_image = model2(noisy_image.cuda())[1]\n",
        "plt.imshow(denoised_image.data.cpu().view(28,28))\n",
        "plt.title('Denoised Image')"
      ],
      "execution_count": 0,
      "outputs": [
        {
          "output_type": "execute_result",
          "data": {
            "text/plain": [
              "Text(0.5, 1.0, 'Denoised Image')"
            ]
          },
          "metadata": {
            "tags": []
          },
          "execution_count": 442
        },
        {
          "output_type": "display_data",
          "data": {
            "image/png": "[encoded data removed]",
            "text/plain": [
              "<Figure size 432x288 with 1 Axes>"
            ]
          },
          "metadata": {
            "tags": []
          }
        }
      ]
    },
    {
      "cell_type": "code",
      "metadata": {
        "id": "GTcRldBuY3HE",
        "colab_type": "code",
        "colab": {}
      },
      "source": [
        ""
      ],
      "execution_count": 0,
      "outputs": []
    },
    {
      "cell_type": "markdown",
      "metadata": {
        "id": "QCx9kDLi49bv",
        "colab_type": "text"
      },
      "source": [
        "**sigma:0.5**"
      ]
    },
    {
      "cell_type": "code",
      "metadata": {
        "id": "9DhqXfzvZIrG",
        "colab_type": "code",
        "colab": {}
      },
      "source": [
        "model6 = denoising_autoencoder().cuda()\n",
        "criterion = nn.MSELoss()\n",
        "optimizer = torch.optim.Adam(\n",
        "model6.parameters(), lr= 0.001)"
      ],
      "execution_count": 0,
      "outputs": []
    },
    {
      "cell_type": "code",
      "metadata": {
        "id": "YUDCVboSZGaK",
        "colab_type": "code",
        "outputId": "52a5395e-75bb-473f-be57-3c1ddb1f1fd6",
        "colab": {
          "base_uri": "https://localhost:8080/",
          "height": 353
        }
      },
      "source": [
        "beta = 0.05\n",
        "num_epochs = 20\n",
        "run_train_loss = []\n",
        "run_val_loss = []\n",
        "for epoch in range(num_epochs):\n",
        "    for data in train_loader:\n",
        "        img = data\n",
        "        img = img.view(img.size(0), -1)\n",
        "        img = Variable(img).cuda()\n",
        "        img1 = img  + torch.Tensor(np.random.normal(0,0.5,(img.size(0),784))).cuda()\n",
        "        # ===================forward=====================\n",
        "        img1 = img1.type(torch.FloatTensor).cuda()\n",
        "        enc_output,dec_output = model6(img1)\n",
        "        loss = criterion(dec_output, img)\n",
        "        # ===================backward====================\n",
        "        optimizer.zero_grad()\n",
        "        loss.backward()\n",
        "        optimizer.step()\n",
        "    \n",
        "    with torch.no_grad():\n",
        "        train_loss = 0\n",
        "        total_train = 0\n",
        "        for data in train_loader:\n",
        "            images = data\n",
        "            images = images.view(images.size(0), -1)\n",
        "            images = Variable(images)\n",
        "            images = images.type(torch.FloatTensor).cuda()\n",
        "            images1 = images + torch.Tensor(np.random.normal(0,0.5,(images.size(0),784))).cuda()\n",
        "            enc_outputs,dec_outputs = model6(images1)\n",
        "            loss_train = criterion(dec_outputs, images)\n",
        "            train_loss += loss_train\n",
        "            total_train += 1\n",
        "          \n",
        "    run_train_loss.append(train_loss/total_train)\n",
        "    with torch.no_grad():\n",
        "        val_loss = 0\n",
        "        total_val = 0\n",
        "        for data in val_loader:\n",
        "            images = data\n",
        "            images = images.view(images.size(0), -1)\n",
        "            images = Variable(images)\n",
        "            images = images.type(torch.FloatTensor).cuda()\n",
        "            images1 = images + torch.Tensor(np.random.normal(0,0.5,(images.size(0),784))).cuda()\n",
        "            enc_outputs,dec_outputs = model6(images1)\n",
        "            loss_val = criterion(dec_outputs, images)\n",
        "            val_loss += loss_val\n",
        "            total_val += 1\n",
        "    run_val_loss.append(val_loss/total_val)\n",
        "    \n",
        "            \n",
        "    # ===================log========================\n",
        "    print('epoch [{}/{}], train_loss:{:.4f}\\t val_loss:{:.4f}'\n",
        "          .format(epoch + 1, num_epochs, train_loss/total_train,val_loss/total_val))"
      ],
      "execution_count": 277,
      "outputs": [
        {
          "output_type": "stream",
          "text": [
            "epoch [1/20], train_loss:0.0219\t val_loss:0.0219\n",
            "epoch [2/20], train_loss:0.0208\t val_loss:0.0208\n",
            "epoch [3/20], train_loss:0.0201\t val_loss:0.0201\n",
            "epoch [4/20], train_loss:0.0198\t val_loss:0.0198\n",
            "epoch [5/20], train_loss:0.0194\t val_loss:0.0195\n",
            "epoch [6/20], train_loss:0.0192\t val_loss:0.0193\n",
            "epoch [7/20], train_loss:0.0192\t val_loss:0.0192\n",
            "epoch [8/20], train_loss:0.0191\t val_loss:0.0191\n",
            "epoch [9/20], train_loss:0.0189\t val_loss:0.0189\n",
            "epoch [10/20], train_loss:0.0189\t val_loss:0.0189\n",
            "epoch [11/20], train_loss:0.0188\t val_loss:0.0188\n",
            "epoch [12/20], train_loss:0.0186\t val_loss:0.0187\n",
            "epoch [13/20], train_loss:0.0185\t val_loss:0.0186\n",
            "epoch [14/20], train_loss:0.0185\t val_loss:0.0186\n",
            "epoch [15/20], train_loss:0.0186\t val_loss:0.0187\n",
            "epoch [16/20], train_loss:0.0186\t val_loss:0.0186\n",
            "epoch [17/20], train_loss:0.0185\t val_loss:0.0186\n",
            "epoch [18/20], train_loss:0.0184\t val_loss:0.0185\n",
            "epoch [19/20], train_loss:0.0184\t val_loss:0.0184\n",
            "epoch [20/20], train_loss:0.0184\t val_loss:0.0184\n"
          ],
          "name": "stdout"
        }
      ]
    },
    {
      "cell_type": "code",
      "metadata": {
        "id": "EOlJU8VYZaUJ",
        "colab_type": "code",
        "outputId": "8aee5c18-8c04-4e53-fb38-5a2c0958e045",
        "colab": {
          "base_uri": "https://localhost:8080/",
          "height": 545
        }
      },
      "source": [
        "rand_no = np.random.randint(0,10000)\n",
        "plt.imshow((test_images[rand_no]+torch.Tensor(np.random.normal(0,0.5,(784)))).view(28,28))\n",
        "plt.title('Noisy Image')\n",
        "plt.show()\n",
        "plt.imshow(model6((test_images[rand_no]+torch.Tensor(np.random.normal(0,0.5,(784)))).cuda())[1].cpu().data.view(28,28))\n",
        "plt.title('Output of Denoising Autoencoder')\n",
        "plt.show()"
      ],
      "execution_count": 279,
      "outputs": [
        {
          "output_type": "display_data",
          "data": {
            "image/png": "[encoded data removed]",
            "text/plain": [
              "<Figure size 432x288 with 1 Axes>"
            ]
          },
          "metadata": {
            "tags": []
          }
        },
        {
          "output_type": "display_data",
          "data": {
            "image/png": "[encoded data removed]",
            "text/plain": [
              "<Figure size 432x288 with 1 Axes>"
            ]
          },
          "metadata": {
            "tags": []
          }
        }
      ]
    },
    {
      "cell_type": "code",
      "metadata": {
        "colab_type": "code",
        "outputId": "782fe9cd-6285-4c76-d1e0-88377f2b8ab3",
        "id": "wNCN8BlXf19S",
        "colab": {
          "base_uri": "https://localhost:8080/",
          "height": 281
        }
      },
      "source": [
        "\n",
        "noisy_image = test_images[rand_no] + torch.Tensor(np.random.normal(0,0.5,(784)))\n",
        "plt.imshow(noisy_image.view(28,28))\n",
        "plt.title('Noisy Image with sigma = 0.5')\n",
        "plt.show()"
      ],
      "execution_count": 280,
      "outputs": [
        {
          "output_type": "display_data",
          "data": {
            "image/png": "[encoded data removed]",
            "text/plain": [
              "<Figure size 432x288 with 1 Axes>"
            ]
          },
          "metadata": {
            "tags": []
          }
        }
      ]
    },
    {
      "cell_type": "code",
      "metadata": {
        "id": "pFWQ2Egp5IPt",
        "colab_type": "code",
        "outputId": "714b5834-d579-4a20-d908-60bc1adb0ca2",
        "colab": {
          "base_uri": "https://localhost:8080/",
          "height": 298
        }
      },
      "source": [
        "denoised_image = model2(noisy_image.cuda())[1]\n",
        "plt.imshow(denoised_image.data.cpu().view(28,28))\n",
        "plt.title('Denoised Image with standard autoencoder')"
      ],
      "execution_count": 282,
      "outputs": [
        {
          "output_type": "execute_result",
          "data": {
            "text/plain": [
              "Text(0.5, 1.0, 'Denoised Image with standard autoencoder')"
            ]
          },
          "metadata": {
            "tags": []
          },
          "execution_count": 282
        },
        {
          "output_type": "display_data",
          "data": {
            "image/png": "[encoded data removed]",
            "text/plain": [
              "<Figure size 432x288 with 1 Axes>"
            ]
          },
          "metadata": {
            "tags": []
          }
        }
      ]
    },
    {
      "cell_type": "markdown",
      "metadata": {
        "id": "Bma1ugr88AaM",
        "colab_type": "text"
      },
      "source": [
        "**Sigma:0.8**"
      ]
    },
    {
      "cell_type": "code",
      "metadata": {
        "id": "tdcmAChZaKvS",
        "colab_type": "code",
        "colab": {}
      },
      "source": [
        "model7 = denoising_autoencoder().cuda()\n",
        "criterion = nn.MSELoss()\n",
        "optimizer = torch.optim.Adam(\n",
        "model7.parameters(), lr= 0.001)"
      ],
      "execution_count": 0,
      "outputs": []
    },
    {
      "cell_type": "code",
      "metadata": {
        "id": "M-fFv6naaUlA",
        "colab_type": "code",
        "outputId": "a4e40d73-4413-45b7-df8c-fd13bdb98b1f",
        "colab": {
          "base_uri": "https://localhost:8080/",
          "height": 353
        }
      },
      "source": [
        "beta = 0.05\n",
        "num_epochs = 20\n",
        "run_train_loss = []\n",
        "run_val_loss = []\n",
        "for epoch in range(num_epochs):\n",
        "    for data in train_loader:\n",
        "        img = data\n",
        "        img = img.view(img.size(0), -1)\n",
        "        img = Variable(img).cuda()\n",
        "        img1 = img  + torch.Tensor(np.random.normal(0,0.8,(img.size(0),784))).cuda()\n",
        "        # ===================forward=====================\n",
        "        img1 = img1.type(torch.FloatTensor).cuda()\n",
        "        enc_output,dec_output = model7(img1)\n",
        "        loss = criterion(dec_output, img)\n",
        "        # ===================backward====================\n",
        "        optimizer.zero_grad()\n",
        "        loss.backward()\n",
        "        optimizer.step()\n",
        "    \n",
        "    with torch.no_grad():\n",
        "        train_loss = 0\n",
        "        total_train = 0\n",
        "        for data in train_loader:\n",
        "            images = data\n",
        "            images = images.view(images.size(0), -1)\n",
        "            images = Variable(images)\n",
        "            images = images.type(torch.FloatTensor).cuda()\n",
        "            images1 = images + torch.Tensor(np.random.normal(0,0.8,(images.size(0),784))).cuda()\n",
        "            enc_outputs,dec_outputs = model7(images1)\n",
        "            loss_train = criterion(dec_outputs, images)\n",
        "            train_loss += loss_train\n",
        "            total_train += 1\n",
        "          \n",
        "    run_train_loss.append(train_loss/total_train)\n",
        "    with torch.no_grad():\n",
        "        val_loss = 0\n",
        "        total_val = 0\n",
        "        for data in val_loader:\n",
        "            images = data\n",
        "            images = images.view(images.size(0), -1)\n",
        "            images = Variable(images)\n",
        "            images = images.type(torch.FloatTensor).cuda()\n",
        "            images1 = images + torch.Tensor(np.random.normal(0,0.8,(images.size(0),784))).cuda()\n",
        "            enc_outputs,dec_outputs = model7(images1)\n",
        "            loss_val = criterion(dec_outputs, images)\n",
        "            val_loss += loss_val\n",
        "            total_val += 1\n",
        "    run_val_loss.append(val_loss/total_val)\n",
        "    \n",
        "            \n",
        "    # ===================log========================\n",
        "    print('epoch [{}/{}], train_loss:{:.4f}\\t val_loss:{:.4f}'\n",
        "          .format(epoch + 1, num_epochs, train_loss/total_train,val_loss/total_val))"
      ],
      "execution_count": 0,
      "outputs": [
        {
          "output_type": "stream",
          "text": [
            "epoch [1/20], train_loss:0.0286\t val_loss:0.0286\n",
            "epoch [2/20], train_loss:0.0269\t val_loss:0.0269\n",
            "epoch [3/20], train_loss:0.0263\t val_loss:0.0264\n",
            "epoch [4/20], train_loss:0.0260\t val_loss:0.0261\n",
            "epoch [5/20], train_loss:0.0258\t val_loss:0.0259\n",
            "epoch [6/20], train_loss:0.0256\t val_loss:0.0258\n",
            "epoch [7/20], train_loss:0.0255\t val_loss:0.0257\n",
            "epoch [8/20], train_loss:0.0254\t val_loss:0.0255\n",
            "epoch [9/20], train_loss:0.0253\t val_loss:0.0254\n",
            "epoch [10/20], train_loss:0.0253\t val_loss:0.0252\n",
            "epoch [11/20], train_loss:0.0253\t val_loss:0.0254\n",
            "epoch [12/20], train_loss:0.0251\t val_loss:0.0252\n",
            "epoch [13/20], train_loss:0.0251\t val_loss:0.0252\n",
            "epoch [14/20], train_loss:0.0252\t val_loss:0.0252\n",
            "epoch [15/20], train_loss:0.0252\t val_loss:0.0252\n",
            "epoch [16/20], train_loss:0.0252\t val_loss:0.0252\n",
            "epoch [17/20], train_loss:0.0250\t val_loss:0.0250\n",
            "epoch [18/20], train_loss:0.0251\t val_loss:0.0251\n",
            "epoch [19/20], train_loss:0.0251\t val_loss:0.0252\n",
            "epoch [20/20], train_loss:0.0249\t val_loss:0.0250\n"
          ],
          "name": "stdout"
        }
      ]
    },
    {
      "cell_type": "code",
      "metadata": {
        "id": "6a-qE41yarVJ",
        "colab_type": "code",
        "outputId": "4ed098b1-bbaa-4a7c-9cc5-ff6a2aabf9bd",
        "colab": {
          "base_uri": "https://localhost:8080/",
          "height": 545
        }
      },
      "source": [
        "rand_no = np.random.randint(0,10000)\n",
        "plt.imshow((test_images[rand_no]+torch.Tensor(np.random.normal(0,0.8,(784)))).view(28,28))\n",
        "plt.title('Noisy Image')\n",
        "plt.show()\n",
        "plt.imshow(model7((test_images[rand_no]+torch.Tensor(np.random.normal(0,0.8,(784)))).cuda())[1].cpu().data.view(28,28))\n",
        "plt.title('Output of Denoising Autoencoder')\n",
        "plt.show()"
      ],
      "execution_count": 0,
      "outputs": [
        {
          "output_type": "display_data",
          "data": {
            "image/png": "[encoded data removed]",
            "text/plain": [
              "<Figure size 432x288 with 1 Axes>"
            ]
          },
          "metadata": {
            "tags": []
          }
        },
        {
          "output_type": "display_data",
          "data": {
            "image/png": "[encoded data removed]",
            "text/plain": [
              "<Figure size 432x288 with 1 Axes>"
            ]
          },
          "metadata": {
            "tags": []
          }
        }
      ]
    },
    {
      "cell_type": "code",
      "metadata": {
        "id": "hEQIcFzwBtG-",
        "colab_type": "code",
        "outputId": "21f22acc-f04c-4ef1-bd10-9ee298b338ab",
        "colab": {
          "base_uri": "https://localhost:8080/",
          "height": 281
        }
      },
      "source": [
        "rand_no = np.random.randint(0,10000)\n",
        "noisy_image = test_images[rand_no] + torch.Tensor(np.random.normal(0,0.8,(784)))\n",
        "plt.imshow(noisy_image.view(28,28))\n",
        "plt.title('Noisy Image with sigma = 0.8')\n",
        "plt.show()"
      ],
      "execution_count": 0,
      "outputs": [
        {
          "output_type": "display_data",
          "data": {
            "image/png": "[encoded data removed]",
            "text/plain": [
              "<Figure size 432x288 with 1 Axes>"
            ]
          },
          "metadata": {
            "tags": []
          }
        }
      ]
    },
    {
      "cell_type": "code",
      "metadata": {
        "id": "9lat_xFABwGF",
        "colab_type": "code",
        "outputId": "7a470984-a5e8-4110-a393-394aca893736",
        "colab": {
          "base_uri": "https://localhost:8080/",
          "height": 281
        }
      },
      "source": [
        "denoised_image = model2(noisy_image.cuda())[1]\n",
        "plt.imshow(denoised_image.data.cpu().view(28,28))\n",
        "plt.title('Denoised Image')\n",
        "plt.show()"
      ],
      "execution_count": 0,
      "outputs": [
        {
          "output_type": "display_data",
          "data": {
            "image/png": "[encoded data removed]",
            "text/plain": [
              "<Figure size 432x288 with 1 Axes>"
            ]
          },
          "metadata": {
            "tags": []
          }
        }
      ]
    },
    {
      "cell_type": "markdown",
      "metadata": {
        "id": "xmzw0PlRB4jm",
        "colab_type": "text"
      },
      "source": [
        "**Sigma:0.9**"
      ]
    },
    {
      "cell_type": "code",
      "metadata": {
        "id": "4jbDG9J-efwp",
        "colab_type": "code",
        "colab": {}
      },
      "source": [
        "model8 = denoising_autoencoder().cuda()\n",
        "criterion = nn.MSELoss()\n",
        "optimizer = torch.optim.Adam(\n",
        "model8.parameters(), lr= 0.001)"
      ],
      "execution_count": 0,
      "outputs": []
    },
    {
      "cell_type": "code",
      "metadata": {
        "id": "FtFwgiR0emCY",
        "colab_type": "code",
        "outputId": "3400c202-a8c7-4419-abca-bab236a1c458",
        "colab": {
          "base_uri": "https://localhost:8080/",
          "height": 353
        }
      },
      "source": [
        "beta = 0.05\n",
        "num_epochs = 20\n",
        "run_train_loss = []\n",
        "run_val_loss = []\n",
        "for epoch in range(num_epochs):\n",
        "    for data in train_loader:\n",
        "        img = data\n",
        "        img = img.view(img.size(0), -1)\n",
        "        img = Variable(img).cuda()\n",
        "        img1 = img  + torch.Tensor(np.random.normal(0,0.9,(img.size(0),784))).cuda()\n",
        "        # ===================forward=====================\n",
        "        img1 = img1.type(torch.FloatTensor).cuda()\n",
        "        enc_output,dec_output = model8(img1)\n",
        "        loss = criterion(dec_output, img)\n",
        "        # ===================backward====================\n",
        "        optimizer.zero_grad()\n",
        "        loss.backward()\n",
        "        optimizer.step()\n",
        "    \n",
        "    with torch.no_grad():\n",
        "        train_loss = 0\n",
        "        total_train = 0\n",
        "        for data in train_loader:\n",
        "            images = data\n",
        "            images = images.view(images.size(0), -1)\n",
        "            images = Variable(images)\n",
        "            images = images.type(torch.FloatTensor).cuda()\n",
        "            images1 = images + torch.Tensor(np.random.normal(0,0.9,(images.size(0),784))).cuda()\n",
        "            enc_outputs,dec_outputs = model8(images1)\n",
        "            loss_train = criterion(dec_outputs, images)\n",
        "            train_loss += loss_train\n",
        "            total_train += 1\n",
        "          \n",
        "    run_train_loss.append(train_loss/total_train)\n",
        "    with torch.no_grad():\n",
        "        val_loss = 0\n",
        "        total_val = 0\n",
        "        for data in val_loader:\n",
        "            images = data\n",
        "            images = images.view(images.size(0), -1)\n",
        "            images = Variable(images)\n",
        "            images = images.type(torch.FloatTensor).cuda()\n",
        "            images1 = images + torch.Tensor(np.random.normal(0,0.9,(images.size(0),784))).cuda()\n",
        "            enc_outputs,dec_outputs = model8(images1)\n",
        "            loss_val = criterion(dec_outputs, images)\n",
        "            val_loss += loss_val\n",
        "            total_val += 1\n",
        "    run_val_loss.append(val_loss/total_val)\n",
        "    \n",
        "            \n",
        "    # ===================log========================\n",
        "    print('epoch [{}/{}], train_loss:{:.4f}\\t val_loss:{:.4f}'\n",
        "          .format(epoch + 1, num_epochs, train_loss/total_train,val_loss/total_val))"
      ],
      "execution_count": 0,
      "outputs": [
        {
          "output_type": "stream",
          "text": [
            "epoch [1/20], train_loss:0.0310\t val_loss:0.0312\n",
            "epoch [2/20], train_loss:0.0293\t val_loss:0.0293\n",
            "epoch [3/20], train_loss:0.0286\t val_loss:0.0286\n",
            "epoch [4/20], train_loss:0.0285\t val_loss:0.0285\n",
            "epoch [5/20], train_loss:0.0283\t val_loss:0.0283\n",
            "epoch [6/20], train_loss:0.0282\t val_loss:0.0282\n",
            "epoch [7/20], train_loss:0.0281\t val_loss:0.0282\n",
            "epoch [8/20], train_loss:0.0280\t val_loss:0.0280\n",
            "epoch [9/20], train_loss:0.0279\t val_loss:0.0280\n",
            "epoch [10/20], train_loss:0.0279\t val_loss:0.0279\n",
            "epoch [11/20], train_loss:0.0277\t val_loss:0.0278\n",
            "epoch [12/20], train_loss:0.0279\t val_loss:0.0278\n",
            "epoch [13/20], train_loss:0.0277\t val_loss:0.0277\n",
            "epoch [14/20], train_loss:0.0278\t val_loss:0.0278\n",
            "epoch [15/20], train_loss:0.0277\t val_loss:0.0278\n",
            "epoch [16/20], train_loss:0.0277\t val_loss:0.0277\n",
            "epoch [17/20], train_loss:0.0278\t val_loss:0.0277\n",
            "epoch [18/20], train_loss:0.0276\t val_loss:0.0277\n",
            "epoch [19/20], train_loss:0.0277\t val_loss:0.0277\n",
            "epoch [20/20], train_loss:0.0277\t val_loss:0.0277\n"
          ],
          "name": "stdout"
        }
      ]
    },
    {
      "cell_type": "code",
      "metadata": {
        "id": "H8-uAH7qe0DQ",
        "colab_type": "code",
        "outputId": "6d2df08e-dede-44c0-855e-49181d040739",
        "colab": {
          "base_uri": "https://localhost:8080/",
          "height": 545
        }
      },
      "source": [
        "rand_no = np.random.randint(0,10000)\n",
        "plt.imshow((test_images[rand_no]+torch.Tensor(np.random.normal(0,0.9,(784)))).view(28,28))\n",
        "plt.title('Noisy Image')\n",
        "plt.show()\n",
        "plt.imshow(model8((test_images[rand_no]+torch.Tensor(np.random.normal(0,0.9,(784)))).cuda())[1].cpu().data.view(28,28))\n",
        "plt.title('Output of Denoising Autoencoder')\n",
        "plt.show()"
      ],
      "execution_count": 0,
      "outputs": [
        {
          "output_type": "display_data",
          "data": {
            "image/png": "[encoded data removed]",
            "text/plain": [
              "<Figure size 432x288 with 1 Axes>"
            ]
          },
          "metadata": {
            "tags": []
          }
        },
        {
          "output_type": "display_data",
          "data": {
            "image/png": "[encoded data removed]",
            "text/plain": [
              "<Figure size 432x288 with 1 Axes>"
            ]
          },
          "metadata": {
            "tags": []
          }
        }
      ]
    },
    {
      "cell_type": "code",
      "metadata": {
        "id": "hBt_TH0gByTf",
        "colab_type": "code",
        "outputId": "9d54c08e-704a-4893-83c0-446e9d552583",
        "colab": {
          "base_uri": "https://localhost:8080/",
          "height": 281
        }
      },
      "source": [
        "\n",
        "noisy_image = test_images[rand_no] + torch.Tensor(np.random.normal(0,0.9,(784)))\n",
        "plt.imshow(noisy_image.view(28,28))\n",
        "plt.title('Noisy Image with sigma = 0.9')\n",
        "plt.show()"
      ],
      "execution_count": 0,
      "outputs": [
        {
          "output_type": "display_data",
          "data": {
            "image/png": "[encoded data removed]",
            "text/plain": [
              "<Figure size 432x288 with 1 Axes>"
            ]
          },
          "metadata": {
            "tags": []
          }
        }
      ]
    },
    {
      "cell_type": "code",
      "metadata": {
        "id": "b7kMXFapB-BL",
        "colab_type": "code",
        "outputId": "a4fe878f-2f5b-4159-911a-20a7dc10eb4e",
        "colab": {
          "base_uri": "https://localhost:8080/",
          "height": 298
        }
      },
      "source": [
        "denoised_image = model2(noisy_image.cuda())[1]\n",
        "plt.imshow(denoised_image.data.cpu().view(28,28))\n",
        "plt.title('Denoised Image')"
      ],
      "execution_count": 0,
      "outputs": [
        {
          "output_type": "execute_result",
          "data": {
            "text/plain": [
              "Text(0.5, 1.0, 'Denoised Image')"
            ]
          },
          "metadata": {
            "tags": []
          },
          "execution_count": 487
        },
        {
          "output_type": "display_data",
          "data": {
            "image/png": "[encoded data removed]",
            "text/plain": [
              "<Figure size 432x288 with 1 Axes>"
            ]
          },
          "metadata": {
            "tags": []
          }
        }
      ]
    },
    {
      "cell_type": "markdown",
      "metadata": {
        "id": "nt1CRUdfm1l8",
        "colab_type": "text"
      },
      "source": [
        "When you pass images corrupted with noise to the previously trained Standard Autoencoders, it could denoise it to some extent. But as we increase noise level the performance decrease.\n",
        "When we build denoising encoder it does a better job than standard encoder even at high noise level if we train using images with that noise levels."
      ]
    },
    {
      "cell_type": "markdown",
      "metadata": {
        "id": "VfUP4DhhrZTa",
        "colab_type": "text"
      },
      "source": [
        "**Visualizing filter for standard autoencoder**"
      ]
    },
    {
      "cell_type": "code",
      "metadata": {
        "id": "aVvuy3n2rG2N",
        "colab_type": "code",
        "colab": {
          "base_uri": "https://localhost:8080/",
          "height": 358
        },
        "outputId": "41f56c08-ec04-439e-8c6d-fefd8e94dd52"
      },
      "source": [
        "for i in model2.parameters():\n",
        "  if len(i.shape)>1:\n",
        "      plt.imshow(i.cpu().data,'gray')\n",
        "      plt.show()"
      ],
      "execution_count": 291,
      "outputs": [
        {
          "output_type": "display_data",
          "data": {
            "image/png": "[encoded data removed]",
            "text/plain": [
              "<Figure size 432x288 with 1 Axes>"
            ]
          },
          "metadata": {
            "tags": []
          }
        },
        {
          "output_type": "display_data",
          "data": {
            "image/png": "[encoded data removed]",
            "text/plain": [
              "<Figure size 432x288 with 1 Axes>"
            ]
          },
          "metadata": {
            "tags": []
          }
        }
      ]
    },
    {
      "cell_type": "markdown",
      "metadata": {
        "id": "ZJ5eoVuErqEC",
        "colab_type": "text"
      },
      "source": [
        "**Visualizing filter denoising autoencoder**"
      ]
    },
    {
      "cell_type": "code",
      "metadata": {
        "id": "7NypZLwvp1kC",
        "colab_type": "code",
        "colab": {
          "base_uri": "https://localhost:8080/",
          "height": 358
        },
        "outputId": "3bd7b1a9-360f-4f55-d7fc-6c56510341f2"
      },
      "source": [
        "for i in model6.parameters():\n",
        "  if len(i.shape)>1:\n",
        "      plt.imshow(i.cpu().data,'gray')\n",
        "      plt.show()"
      ],
      "execution_count": 290,
      "outputs": [
        {
          "output_type": "display_data",
          "data": {
            "image/png": "[encoded data removed]",
            "text/plain": [
              "<Figure size 432x288 with 1 Axes>"
            ]
          },
          "metadata": {
            "tags": []
          }
        },
        {
          "output_type": "display_data",
          "data": {
            "image/png": "[encoded data removed]",
            "text/plain": [
              "<Figure size 432x288 with 1 Axes>"
            ]
          },
          "metadata": {
            "tags": []
          }
        }
      ]
    },
    {
      "cell_type": "markdown",
      "metadata": {
        "id": "r06uT7XFr06g",
        "colab_type": "text"
      },
      "source": [
        "From above plots we can see that filters of denoising autoencoder have pattern white strips which indicate zero weights for dropping the noise effect from the image.\n"
      ]
    },
    {
      "cell_type": "markdown",
      "metadata": {
        "id": "XAg-6xn_f-lN",
        "colab_type": "text"
      },
      "source": [
        "# 5. Manifold Learning"
      ]
    },
    {
      "cell_type": "markdown",
      "metadata": {
        "id": "kooh5rLXac2d",
        "colab_type": "text"
      },
      "source": [
        "**Adding noise to 784 dimensions **"
      ]
    },
    {
      "cell_type": "code",
      "metadata": {
        "id": "V1MPcoGZYN5b",
        "colab_type": "code",
        "colab": {
          "base_uri": "https://localhost:8080/",
          "height": 530
        },
        "outputId": "f8812eaf-55ac-4fc9-a4a5-6a15206fd89a"
      },
      "source": [
        "rand_no = np.random.randint(1,10000)\n",
        "#enc = model0.encoder()\n",
        "enc_noise = test_images[rand_no] + torch.Tensor(np.random.normal(0,0.5,784))\n",
        "plt.imshow(test_images[rand_no].view(28,28))\n",
        "plt.show()\n",
        "plt.imshow(enc_noise.view(28,28))"
      ],
      "execution_count": 212,
      "outputs": [
        {
          "output_type": "display_data",
          "data": {
            "image/png": "[encoded data removed]",
            "text/plain": [
              "<Figure size 432x288 with 1 Axes>"
            ]
          },
          "metadata": {
            "tags": []
          }
        },
        {
          "output_type": "execute_result",
          "data": {
            "text/plain": [
              "<matplotlib.image.AxesImage at 0x7ffa6039d940>"
            ]
          },
          "metadata": {
            "tags": []
          },
          "execution_count": 212
        },
        {
          "output_type": "display_data",
          "data": {
            "image/png": "[encoded data removed]",
            "text/plain": [
              "<Figure size 432x288 with 1 Axes>"
            ]
          },
          "metadata": {
            "tags": []
          }
        }
      ]
    },
    {
      "cell_type": "code",
      "metadata": {
        "id": "epBJelFKarfF",
        "colab_type": "code",
        "colab": {}
      },
      "source": [
        ""
      ],
      "execution_count": 0,
      "outputs": []
    },
    {
      "cell_type": "markdown",
      "metadata": {
        "id": "rxHIF6M_a20u",
        "colab_type": "text"
      },
      "source": [
        "**Adding noise to encoded representation**"
      ]
    },
    {
      "cell_type": "code",
      "metadata": {
        "id": "YUJJo8EtRIuV",
        "colab_type": "code",
        "colab": {}
      },
      "source": [
        "class autoencoder(nn.Module):\n",
        "    def __init__(self):\n",
        "        super(autoencoder, self).__init__()\n",
        "        self.encoder = nn.Sequential(\n",
        "            nn.Linear(28 * 28, 64),\n",
        "            nn.ReLU(True),nn.Linear(64, 8),\n",
        "            nn.ReLU(True))\n",
        "        self.decoder = nn.Sequential(\n",
        "            nn.Linear(8, 64),\n",
        "            nn.ReLU(True),nn.Linear(64, 784),\n",
        "            nn.ReLU(True))\n",
        "    def forward(self, x):\n",
        "        encoded = self.encoder(x)\n",
        "        decoded = self.decoder(encoded)\n",
        "        return encoded,decoded\n"
      ],
      "execution_count": 0,
      "outputs": []
    },
    {
      "cell_type": "code",
      "metadata": {
        "id": "-_fC5CkVj1Tw",
        "colab_type": "code",
        "colab": {}
      },
      "source": [
        "model9 = autoencoder().cuda()\n",
        "criterion = nn.MSELoss()\n",
        "optimizer = torch.optim.Adam(\n",
        "model9.parameters(), lr= 0.001)"
      ],
      "execution_count": 0,
      "outputs": []
    },
    {
      "cell_type": "code",
      "metadata": {
        "id": "ksc084BZj6Yj",
        "colab_type": "code",
        "outputId": "c4ac7564-0588-4f44-f1ff-fe42029b23bc",
        "colab": {
          "base_uri": "https://localhost:8080/",
          "height": 353
        }
      },
      "source": [
        "beta = 0.05\n",
        "num_epochs = 20\n",
        "run_train_loss = []\n",
        "run_val_loss = []\n",
        "for epoch in range(num_epochs):\n",
        "    for data in train_loader:\n",
        "        img = data\n",
        "        img = img.view(img.size(0), -1)\n",
        "        img = Variable(img)\n",
        "        #img1 = img  + torch.Tensor(np.random.normal(0,0.9,(img.size(0),784))).cuda()\n",
        "        # ===================forward=====================\n",
        "        img = img.type(torch.FloatTensor).cuda()\n",
        "        enc_output,dec_output = model9(img)\n",
        "        loss = criterion(dec_output, img)\n",
        "        # ===================backward====================\n",
        "        optimizer.zero_grad()\n",
        "        loss.backward()\n",
        "        optimizer.step()\n",
        "    \n",
        "    with torch.no_grad():\n",
        "        train_loss = 0\n",
        "        total_train = 0\n",
        "        for data in train_loader:\n",
        "            images = data\n",
        "            images = images.view(images.size(0), -1)\n",
        "            images = Variable(images)\n",
        "            images = images.type(torch.FloatTensor).cuda()\n",
        "           # images1 = images + torch.Tensor(np.random.normal(0,0.9,(images.size(0),784))).cuda()\n",
        "            enc_outputs,dec_outputs = model9(images)\n",
        "            loss_train = criterion(dec_outputs, images)\n",
        "            train_loss += loss_train\n",
        "            total_train += 1\n",
        "          \n",
        "    run_train_loss.append(train_loss/total_train)\n",
        "    with torch.no_grad():\n",
        "        val_loss = 0\n",
        "        total_val = 0\n",
        "        for data in val_loader:\n",
        "            images = data\n",
        "            images = images.view(images.size(0), -1)\n",
        "            images = Variable(images)\n",
        "            images = images.type(torch.FloatTensor).cuda()\n",
        "           # images1 = images + torch.Tensor(np.random.normal(0,0.9,(images.size(0),784))).cuda()\n",
        "            enc_outputs,dec_outputs = model9(images)\n",
        "            loss_val = criterion(dec_outputs, images)\n",
        "            val_loss += loss_val\n",
        "            total_val += 1\n",
        "    run_val_loss.append(val_loss/total_val)\n",
        "    \n",
        "            \n",
        "    # ===================log========================\n",
        "    print('epoch [{}/{}], train_loss:{:.4f}\\t val_loss:{:.4f}'\n",
        "          .format(epoch + 1, num_epochs, train_loss/total_train,val_loss/total_val))"
      ],
      "execution_count": 0,
      "outputs": [
        {
          "output_type": "stream",
          "text": [
            "epoch [1/20], train_loss:0.0406\t val_loss:0.0406\n",
            "epoch [2/20], train_loss:0.0382\t val_loss:0.0383\n",
            "epoch [3/20], train_loss:0.0368\t val_loss:0.0368\n",
            "epoch [4/20], train_loss:0.0361\t val_loss:0.0362\n",
            "epoch [5/20], train_loss:0.0357\t val_loss:0.0358\n",
            "epoch [6/20], train_loss:0.0353\t val_loss:0.0354\n",
            "epoch [7/20], train_loss:0.0350\t val_loss:0.0352\n",
            "epoch [8/20], train_loss:0.0345\t val_loss:0.0347\n",
            "epoch [9/20], train_loss:0.0343\t val_loss:0.0344\n",
            "epoch [10/20], train_loss:0.0336\t val_loss:0.0338\n",
            "epoch [11/20], train_loss:0.0332\t val_loss:0.0334\n",
            "epoch [12/20], train_loss:0.0328\t val_loss:0.0330\n",
            "epoch [13/20], train_loss:0.0328\t val_loss:0.0331\n",
            "epoch [14/20], train_loss:0.0327\t val_loss:0.0329\n",
            "epoch [15/20], train_loss:0.0325\t val_loss:0.0328\n",
            "epoch [16/20], train_loss:0.0325\t val_loss:0.0328\n",
            "epoch [17/20], train_loss:0.0324\t val_loss:0.0327\n",
            "epoch [18/20], train_loss:0.0324\t val_loss:0.0326\n",
            "epoch [19/20], train_loss:0.0323\t val_loss:0.0325\n",
            "epoch [20/20], train_loss:0.0323\t val_loss:0.0326\n"
          ],
          "name": "stdout"
        }
      ]
    },
    {
      "cell_type": "code",
      "metadata": {
        "id": "sqgAb0W0k_RC",
        "colab_type": "code",
        "outputId": "fa0e3e18-34d3-4aed-bd21-97628c833666",
        "colab": {
          "base_uri": "https://localhost:8080/",
          "height": 530
        }
      },
      "source": [
        "rand_no = np.random.randint(1,10000)\n",
        "enc = model9.encoder(test_images[rand_no].cuda())\n",
        "enc_noise = enc + torch.Tensor(np.random.normal(0,2,8)).cuda()\n",
        "recon = model9.decoder(enc_noise)\n",
        "plt.imshow(test_images[rand_no].view(28,28))\n",
        "plt.show()\n",
        "plt.imshow(recon.cpu().data.view(28,28))"
      ],
      "execution_count": 0,
      "outputs": [
        {
          "output_type": "display_data",
          "data": {
            "image/png": "[encoded data removed]",
            "text/plain": [
              "<Figure size 432x288 with 1 Axes>"
            ]
          },
          "metadata": {
            "tags": []
          }
        },
        {
          "output_type": "execute_result",
          "data": {
            "text/plain": [
              "<matplotlib.image.AxesImage at 0x7f84b1133470>"
            ]
          },
          "metadata": {
            "tags": []
          },
          "execution_count": 533
        },
        {
          "output_type": "display_data",
          "data": {
            "image/png": "[encoded data removed]",
            "text/plain": [
              "<Figure size 432x288 with 1 Axes>"
            ]
          },
          "metadata": {
            "tags": []
          }
        }
      ]
    },
    {
      "cell_type": "markdown",
      "metadata": {
        "id": "bjjKsw-qa8yv",
        "colab_type": "text"
      },
      "source": [
        "When we move in different directions in 784 dimensions or add noise in this dimension, the output is not a digit, However when we move in different directions in encoded representation or learned manifold we land in the digit subspace itself so output will be digit only.\n",
        "\n",
        "\n"
      ]
    },
    {
      "cell_type": "markdown",
      "metadata": {
        "id": "MauarCcK22vx",
        "colab_type": "text"
      },
      "source": [
        "# 6. Convolutional Autoencoders"
      ]
    },
    {
      "cell_type": "markdown",
      "metadata": {
        "id": "SgxartBV6QCX",
        "colab_type": "text"
      },
      "source": [
        "**i) Unpooling**"
      ]
    },
    {
      "cell_type": "code",
      "metadata": {
        "id": "vMngETck3EW0",
        "colab_type": "code",
        "colab": {}
      },
      "source": [
        "class convolutional_autoencoder_1(nn.Module):\n",
        "    def __init__(self):\n",
        "        super(convolutional_autoencoder_1, self).__init__()\n",
        "        \n",
        "        self.conv1 = nn.Conv2d(1, 8, 3)\n",
        "        self.maxpool1 =  nn.MaxPool2d(2, return_indices = True)\n",
        "        self.conv2 = nn.Conv2d(8,16,3)\n",
        "        self.maxpool2 = nn.MaxPool2d(2,return_indices= True)\n",
        "        self.conv3 = nn.Conv2d(16,16,3)\n",
        "        self.maxpool3 = nn.MaxPool2d(2,return_indices= True)\n",
        "\n",
        "        self.unpool1 = nn.MaxUnpool2d(2)\n",
        "        self.conv4 = nn.Conv2d(16,16,3,padding = 2)\n",
        "        self.unpool2 = nn.MaxUnpool2d(2)\n",
        "        self.conv5 = nn.Conv2d(16,8,3,padding = 2)\n",
        "        self.unpool3 = nn.MaxUnpool2d(2)\n",
        "        self.conv6 = nn.Conv2d(8,1,3,padding = 2)\n",
        "    def encoder(self,x):\n",
        "        x = self.conv1(x)\n",
        "        x = F.relu(x)\n",
        "        x,indices_1 = self.maxpool1(x)\n",
        "        x = self.conv2(x)\n",
        "        x = F.relu(x)\n",
        "        x,indices_2 = self.maxpool2(x)\n",
        "        x = self.conv3(x)\n",
        "        x = F.relu(x)\n",
        "        x,indices_3 = self.maxpool2(x)\n",
        "        x = F.relu(x)\n",
        "        return x,indices_1,indices_2,indices_3\n",
        "\n",
        "    def decoder(self,x,indices_1,indices_2,indices_3):\n",
        "        \n",
        "        x = self.unpool1(x,indices_3,output_size = torch.Size([x.size(0),16,3,3]))\n",
        "       # print(x.shape)\n",
        "        x = self.conv4(x)\n",
        "        \n",
        "      #  print(x.shape,indices_2.shape)\n",
        "        x = self.unpool2(x,indices_2,output_size = torch.Size([x.size(0),16,11,11]))\n",
        "        x = F.relu(x)\n",
        "        #print(x.shape)\n",
        "        x = self.conv5(x)\n",
        "        \n",
        "        x = self.unpool3(x,indices_1)\n",
        "        x = F.relu(x)\n",
        "        x = self.conv6(x)\n",
        "        x = F.relu(x)\n",
        "        return x\n",
        "\n",
        "    def forward(self, x):\n",
        "        x,indices_1,indices_2,indices_3 = self.encoder(x)\n",
        "        x = self.decoder(x,indices_1,indices_2,indices_3)\n",
        "        return x\n"
      ],
      "execution_count": 0,
      "outputs": []
    },
    {
      "cell_type": "code",
      "metadata": {
        "id": "Z3wdjR38-anf",
        "colab_type": "code",
        "colab": {}
      },
      "source": [
        "model10 = convolutional_autoencoder_1().cuda()\n",
        "criterion = nn.MSELoss()\n",
        "optimizer = torch.optim.Adam(\n",
        "model10.parameters(), lr= 0.001)"
      ],
      "execution_count": 0,
      "outputs": []
    },
    {
      "cell_type": "code",
      "metadata": {
        "id": "cRbiCo3z-l9m",
        "colab_type": "code",
        "colab": {
          "base_uri": "https://localhost:8080/",
          "height": 185
        },
        "outputId": "efaea3a0-3bc2-4167-efd1-c1adce075036"
      },
      "source": [
        "num_epochs = 10\n",
        "run_train_loss = []\n",
        "run_val_loss = []\n",
        "for epoch in range(num_epochs):\n",
        "    for data in train_loader:\n",
        "        img = data\n",
        "        img = img.view(img.size(0),1,28,28)\n",
        "        img = Variable(img)\n",
        "        # ===================forward=====================\n",
        "        img = img.type(torch.FloatTensor).cuda()\n",
        "        output = model10(img)\n",
        "        loss = criterion(output, img)\n",
        "        # ===================backward====================\n",
        "        optimizer.zero_grad()\n",
        "        loss.backward()\n",
        "        optimizer.step()\n",
        "    \n",
        "    with torch.no_grad():\n",
        "        train_loss = 0\n",
        "        total_train = 0\n",
        "        for data in train_loader:\n",
        "            images = data\n",
        "            images = images.view(images.size(0),1, 28,28)\n",
        "            images = Variable(images)\n",
        "            images = images.type(torch.FloatTensor).cuda()\n",
        "            outputs = model10(images)\n",
        "            loss_train = criterion(outputs, images)\n",
        "            train_loss += loss_train\n",
        "            total_train += 1\n",
        "          \n",
        "    run_train_loss.append(train_loss/total_train)\n",
        "    with torch.no_grad():\n",
        "        val_loss = 0\n",
        "        total_val = 0\n",
        "        for data in val_loader:\n",
        "            images = data\n",
        "            images = images.view(images.size(0), 1,28,28)\n",
        "            images = Variable(images)\n",
        "            images = images.type(torch.FloatTensor).cuda()\n",
        "            outputs = model10(images)\n",
        "            loss_val = criterion(outputs, images)\n",
        "            val_loss += loss_val\n",
        "            total_val += 1\n",
        "    run_val_loss.append(val_loss/total_val)\n",
        "    \n",
        "            \n",
        "    # ===================log========================\n",
        "    print('epoch [{}/{}], train_loss:{:.4f}\\t val_loss:{:.4f}'\n",
        "          .format(epoch + 1, num_epochs, train_loss/total_train,val_loss/total_val))"
      ],
      "execution_count": 263,
      "outputs": [
        {
          "output_type": "stream",
          "text": [
            "epoch [1/10], train_loss:0.0103\t val_loss:0.0103\n",
            "epoch [2/10], train_loss:0.0082\t val_loss:0.0082\n",
            "epoch [3/10], train_loss:0.0076\t val_loss:0.0076\n",
            "epoch [4/10], train_loss:0.0074\t val_loss:0.0074\n",
            "epoch [5/10], train_loss:0.0072\t val_loss:0.0073\n",
            "epoch [6/10], train_loss:0.0071\t val_loss:0.0071\n",
            "epoch [7/10], train_loss:0.0069\t val_loss:0.0069\n",
            "epoch [8/10], train_loss:0.0068\t val_loss:0.0068\n",
            "epoch [9/10], train_loss:0.0066\t val_loss:0.0066\n",
            "epoch [10/10], train_loss:0.0065\t val_loss:0.0065\n"
          ],
          "name": "stdout"
        }
      ]
    },
    {
      "cell_type": "code",
      "metadata": {
        "id": "pyrL6vVN-wcb",
        "colab_type": "code",
        "colab": {
          "base_uri": "https://localhost:8080/",
          "height": 296
        },
        "outputId": "77abfd8b-2943-4ee2-883f-b9b16c3d8fd9"
      },
      "source": [
        "epoch = [i for i in range(1,len(run_train_loss)+1)]\n",
        "plt.plot(epoch,run_train_loss,'-r')\n",
        "plt.plot(epoch,run_val_loss,'-b')\n",
        "plt.title('Train and validation loss')\n",
        "plt.xlabel('n_iterations')\n",
        "plt.ylabel('Error')\n",
        "plt.gca().legend(('train loss','validation loss'))\n",
        "plt.show()"
      ],
      "execution_count": 264,
      "outputs": [
        {
          "output_type": "display_data",
          "data": {
            "image/png": "[encoded data removed]",
            "text/plain": [
              "<Figure size 432x288 with 1 Axes>"
            ]
          },
          "metadata": {
            "tags": []
          }
        }
      ]
    },
    {
      "cell_type": "code",
      "metadata": {
        "id": "8OBF84YFe4o6",
        "colab_type": "code",
        "colab": {
          "base_uri": "https://localhost:8080/",
          "height": 34
        },
        "outputId": "5ff2f683-3021-44e4-bd71-d9dc361ac651"
      },
      "source": [
        "with torch.no_grad():\n",
        "        test_loss = 0\n",
        "        total_test = 0\n",
        "        for data in test_loader:\n",
        "            images = data\n",
        "            images = images.view(images.size(0), 1,28,28)\n",
        "            images = Variable(images)\n",
        "            images = images.type(torch.FloatTensor).cuda()\n",
        "            outputs = model10(images)\n",
        "            loss_test = criterion(outputs, images)\n",
        "            loss_test = loss_test.item()\n",
        "            test_loss += loss_test\n",
        "            total_test += 1\n",
        "Mse = test_loss/total_test\n",
        "print('MSE:',Mse)"
      ],
      "execution_count": 265,
      "outputs": [
        {
          "output_type": "stream",
          "text": [
            "MSE: 0.006535502260396625\n"
          ],
          "name": "stdout"
        }
      ]
    },
    {
      "cell_type": "code",
      "metadata": {
        "id": "AdrGXkLbe96z",
        "colab_type": "code",
        "colab": {}
      },
      "source": [
        "test_auto = model10(test_images.type(torch.FloatTensor).view(-1,1,28,28).cuda())"
      ],
      "execution_count": 0,
      "outputs": []
    },
    {
      "cell_type": "code",
      "metadata": {
        "id": "jAHhciR-fUif",
        "colab_type": "code",
        "colab": {
          "base_uri": "https://localhost:8080/",
          "height": 545
        },
        "outputId": "db4e05ff-5061-41a9-b294-471c75b35407"
      },
      "source": [
        "rand_no = np.random.randint(0,10000)\n",
        "plt.imshow(test_images[rand_no].view(28,28),'gray')\n",
        "plt.title('Original Image')\n",
        "plt.show()\n",
        "plt.imshow(test_auto[rand_no].data.cpu().view(28,28),'gray')\n",
        "plt.title('Convolutional Autoencoder reconstruction')\n",
        "plt.show()"
      ],
      "execution_count": 267,
      "outputs": [
        {
          "output_type": "display_data",
          "data": {
            "image/png": "[encoded data removed]",
            "text/plain": [
              "<Figure size 432x288 with 1 Axes>"
            ]
          },
          "metadata": {
            "tags": []
          }
        },
        {
          "output_type": "display_data",
          "data": {
            "image/png": "[encoded data removed]",
            "text/plain": [
              "<Figure size 432x288 with 1 Axes>"
            ]
          },
          "metadata": {
            "tags": []
          }
        }
      ]
    },
    {
      "cell_type": "markdown",
      "metadata": {
        "id": "8eiCp_CpiPGZ",
        "colab_type": "text"
      },
      "source": [
        "**Visualization Weights of decoder**"
      ]
    },
    {
      "cell_type": "code",
      "metadata": {
        "id": "46823wbrffYX",
        "colab_type": "code",
        "colab": {
          "base_uri": "https://localhost:8080/",
          "height": 286
        },
        "outputId": "1752a24b-d687-43bd-b8ef-08efcc6bdd02"
      },
      "source": [
        "plt.imshow(model10.conv4.weight.data.cpu()[0,0,:,:],'gray')"
      ],
      "execution_count": 268,
      "outputs": [
        {
          "output_type": "execute_result",
          "data": {
            "text/plain": [
              "<matplotlib.image.AxesImage at 0x7ffa61bb5320>"
            ]
          },
          "metadata": {
            "tags": []
          },
          "execution_count": 268
        },
        {
          "output_type": "display_data",
          "data": {
            "image/png": "[encoded data removed]",
            "text/plain": [
              "<Figure size 432x288 with 1 Axes>"
            ]
          },
          "metadata": {
            "tags": []
          }
        }
      ]
    },
    {
      "cell_type": "code",
      "metadata": {
        "id": "eRLmuFkZhxzd",
        "colab_type": "code",
        "colab": {
          "base_uri": "https://localhost:8080/",
          "height": 286
        },
        "outputId": "3d709e89-3694-4b29-a5ae-97f05cb2c616"
      },
      "source": [
        "plt.imshow(model10.conv5.weight.data.cpu()[0,0,:,:],'gray')"
      ],
      "execution_count": 269,
      "outputs": [
        {
          "output_type": "execute_result",
          "data": {
            "text/plain": [
              "<matplotlib.image.AxesImage at 0x7ffa4b441390>"
            ]
          },
          "metadata": {
            "tags": []
          },
          "execution_count": 269
        },
        {
          "output_type": "display_data",
          "data": {
            "image/png": "[encoded data removed]",
            "text/plain": [
              "<Figure size 432x288 with 1 Axes>"
            ]
          },
          "metadata": {
            "tags": []
          }
        }
      ]
    },
    {
      "cell_type": "code",
      "metadata": {
        "id": "HWfVVdnVh9z8",
        "colab_type": "code",
        "colab": {
          "base_uri": "https://localhost:8080/",
          "height": 286
        },
        "outputId": "a549df01-4243-4b06-f070-89b2e87f334c"
      },
      "source": [
        "plt.imshow(model10.conv6.weight.data.cpu()[0,0,:,:],'gray')"
      ],
      "execution_count": 270,
      "outputs": [
        {
          "output_type": "execute_result",
          "data": {
            "text/plain": [
              "<matplotlib.image.AxesImage at 0x7ffa4b5b3f98>"
            ]
          },
          "metadata": {
            "tags": []
          },
          "execution_count": 270
        },
        {
          "output_type": "display_data",
          "data": {
            "image/png": "[encoded data removed]",
            "text/plain": [
              "<Figure size 432x288 with 1 Axes>"
            ]
          },
          "metadata": {
            "tags": []
          }
        }
      ]
    },
    {
      "cell_type": "markdown",
      "metadata": {
        "id": "sveuFFrGhZHK",
        "colab_type": "text"
      },
      "source": [
        "**2. Unpooling + Deconvolution**"
      ]
    },
    {
      "cell_type": "code",
      "metadata": {
        "id": "H-6GOQDnhelu",
        "colab_type": "code",
        "colab": {}
      },
      "source": [
        "class convolutional_autoencoder_2(nn.Module):\n",
        "    def __init__(self):\n",
        "        super(convolutional_autoencoder_2, self).__init__()\n",
        "        \n",
        "        self.conv1 = nn.Conv2d(1, 8, 3)\n",
        "        self.maxpool1 =  nn.MaxPool2d(2, return_indices = True)\n",
        "        self.conv2 = nn.Conv2d(8,16,3)\n",
        "        self.maxpool2 = nn.MaxPool2d(2,return_indices= True)\n",
        "        self.conv3 = nn.Conv2d(16,16,3)\n",
        "        self.maxpool3 = nn.MaxPool2d(2,return_indices= True)\n",
        "        \n",
        "\n",
        "        \n",
        "        self.unpool1 = nn.MaxUnpool2d(2)\n",
        "        self.de_conv1 = nn.ConvTranspose2d(16,16,3)\n",
        "        self.unpool2 = nn.MaxUnpool2d(2)\n",
        "        self.de_conv2 = nn.ConvTranspose2d(16,8,3)\n",
        "        self.unpool3 = nn.MaxUnpool2d(2)\n",
        "        self.de_conv3 = nn.ConvTranspose2d(8,1,3)\n",
        "    def encoder(self,x):\n",
        "        x = self.conv1(x)\n",
        "        x = F.relu(x)\n",
        "        x,indices_1 = self.maxpool1(x)\n",
        "        x = self.conv2(x)\n",
        "        x = F.relu(x)\n",
        "        x,indices_2 = self.maxpool2(x)\n",
        "        x = self.conv3(x)\n",
        "        x = F.relu(x)\n",
        "        x,indices_3 = self.maxpool2(x)\n",
        "        return x,indices_1,indices_2,indices_3\n",
        "\n",
        "    def decoder(self,x,indices_1,indices_2,indices_3):\n",
        "        #print(x.shape,indices_3.shape)\n",
        "        x = self.unpool1(x,indices_3,output_size = [x.size(0),16,3,3])\n",
        "        #print(x.shape)\n",
        "        x = self.de_conv1(x)\n",
        "        \n",
        "       # print(x.shape,indices_2.shape)\n",
        "        x = self.unpool2(x,indices_2,output_size = [x.size(0),16,11,11])\n",
        "        x = F.relu(x)\n",
        "       # print(x.shape,indices_1.shape)\n",
        "        x = self.de_conv2(x)\n",
        "        \n",
        "       # print(x.shape,indices_1.shape)\n",
        "        x = self.unpool3(x,indices_1)\n",
        "        x = F.relu(x)\n",
        "        x = self.de_conv3(x)\n",
        "        x = F.relu(x)\n",
        "        return x\n",
        "\n",
        "    def forward(self, x):\n",
        "        x,indices_1,indices_2,indices_3= self.encoder(x)\n",
        "        x = self.decoder(x,indices_1,indices_2,indices_3)\n",
        "        return x\n"
      ],
      "execution_count": 0,
      "outputs": []
    },
    {
      "cell_type": "code",
      "metadata": {
        "id": "aoHQwf3hjT2T",
        "colab_type": "code",
        "colab": {}
      },
      "source": [
        "model11 = convolutional_autoencoder_2().cuda()\n",
        "criterion = nn.MSELoss()\n",
        "optimizer = torch.optim.Adam(\n",
        "model11.parameters(), lr= 0.001)"
      ],
      "execution_count": 0,
      "outputs": []
    },
    {
      "cell_type": "code",
      "metadata": {
        "id": "-rWyBG_3jdAh",
        "colab_type": "code",
        "colab": {
          "base_uri": "https://localhost:8080/",
          "height": 353
        },
        "outputId": "46601567-40aa-4e32-adf1-fe8017429d08"
      },
      "source": [
        "num_epochs = 20\n",
        "run_train_loss = []\n",
        "run_val_loss = []\n",
        "for epoch in range(num_epochs):\n",
        "    for data in train_loader:\n",
        "        img = data\n",
        "        img = img.view(img.size(0),1,28,28)\n",
        "        img = Variable(img)\n",
        "        # ===================forward=====================\n",
        "        img = img.type(torch.FloatTensor).cuda()\n",
        "        output = model11(img)\n",
        "        loss = criterion(output, img)\n",
        "        # ===================backward====================\n",
        "        optimizer.zero_grad()\n",
        "        loss.backward()\n",
        "        optimizer.step()\n",
        "    \n",
        "    with torch.no_grad():\n",
        "        train_loss = 0\n",
        "        total_train = 0\n",
        "        for data in train_loader:\n",
        "            images = data\n",
        "            images = images.view(images.size(0),1, 28,28)\n",
        "            images = Variable(images)\n",
        "            images = images.type(torch.FloatTensor).cuda()\n",
        "            outputs = model11(images)\n",
        "            loss_train = criterion(outputs, images)\n",
        "            train_loss += loss_train\n",
        "            total_train += 1\n",
        "          \n",
        "    run_train_loss.append(train_loss/total_train)\n",
        "    with torch.no_grad():\n",
        "        val_loss = 0\n",
        "        total_val = 0\n",
        "        for data in val_loader:\n",
        "            images = data\n",
        "            images = images.view(images.size(0), 1,28,28)\n",
        "            images = Variable(images)\n",
        "            images = images.type(torch.FloatTensor).cuda()\n",
        "            outputs = model11(images)\n",
        "            loss_val = criterion(outputs, images)\n",
        "            val_loss += loss_val\n",
        "            total_val += 1\n",
        "    run_val_loss.append(val_loss/total_val)\n",
        "    \n",
        "            \n",
        "    # ===================log========================\n",
        "    print('epoch [{}/{}], train_loss:{:.4f}\\t val_loss:{:.4f}'\n",
        "          .format(epoch + 1, num_epochs, train_loss/total_train,val_loss/total_val))"
      ],
      "execution_count": 218,
      "outputs": [
        {
          "output_type": "stream",
          "text": [
            "epoch [1/20], train_loss:0.0135\t val_loss:0.0135\n",
            "epoch [2/20], train_loss:0.0102\t val_loss:0.0102\n",
            "epoch [3/20], train_loss:0.0092\t val_loss:0.0092\n",
            "epoch [4/20], train_loss:0.0087\t val_loss:0.0087\n",
            "epoch [5/20], train_loss:0.0081\t val_loss:0.0082\n",
            "epoch [6/20], train_loss:0.0068\t val_loss:0.0068\n",
            "epoch [7/20], train_loss:0.0066\t val_loss:0.0066\n",
            "epoch [8/20], train_loss:0.0064\t val_loss:0.0064\n",
            "epoch [9/20], train_loss:0.0063\t val_loss:0.0063\n",
            "epoch [10/20], train_loss:0.0065\t val_loss:0.0065\n",
            "epoch [11/20], train_loss:0.0064\t val_loss:0.0064\n",
            "epoch [12/20], train_loss:0.0064\t val_loss:0.0064\n",
            "epoch [13/20], train_loss:0.0063\t val_loss:0.0063\n",
            "epoch [14/20], train_loss:0.0063\t val_loss:0.0063\n",
            "epoch [15/20], train_loss:0.0063\t val_loss:0.0063\n",
            "epoch [16/20], train_loss:0.0063\t val_loss:0.0063\n",
            "epoch [17/20], train_loss:0.0064\t val_loss:0.0064\n",
            "epoch [18/20], train_loss:0.0064\t val_loss:0.0064\n",
            "epoch [19/20], train_loss:0.0065\t val_loss:0.0065\n",
            "epoch [20/20], train_loss:0.0064\t val_loss:0.0064\n"
          ],
          "name": "stdout"
        }
      ]
    },
    {
      "cell_type": "code",
      "metadata": {
        "id": "aFYbKDPHjgL2",
        "colab_type": "code",
        "colab": {
          "base_uri": "https://localhost:8080/",
          "height": 34
        },
        "outputId": "f5468db2-0257-4312-9569-98c3bf5318af"
      },
      "source": [
        "with torch.no_grad():\n",
        "        test_loss = 0\n",
        "        total_test = 0\n",
        "        for data in test_loader:\n",
        "            images = data\n",
        "            images = images.view(images.size(0), 1,28,28)\n",
        "            images = Variable(images)\n",
        "            images = images.type(torch.FloatTensor).cuda()\n",
        "            outputs = model11(images)\n",
        "            loss_test = criterion(outputs, images)\n",
        "            loss_test = loss_test.item()\n",
        "            test_loss += loss_test\n",
        "            total_test += 1\n",
        "Mse = test_loss/total_test\n",
        "print('MSE:',Mse)"
      ],
      "execution_count": 219,
      "outputs": [
        {
          "output_type": "stream",
          "text": [
            "MSE: 0.006424464946790676\n"
          ],
          "name": "stdout"
        }
      ]
    },
    {
      "cell_type": "code",
      "metadata": {
        "id": "EVuSkhU2j9Sb",
        "colab_type": "code",
        "colab": {}
      },
      "source": [
        "test_auto = model11(test_images.type(torch.FloatTensor).view(-1,1,28,28).cuda())"
      ],
      "execution_count": 0,
      "outputs": []
    },
    {
      "cell_type": "code",
      "metadata": {
        "id": "uYt4jeu0kDlS",
        "colab_type": "code",
        "colab": {
          "base_uri": "https://localhost:8080/",
          "height": 545
        },
        "outputId": "69fad2b1-ec9d-435c-f88b-53e60205b99e"
      },
      "source": [
        "rand_no = np.random.randint(0,10000)\n",
        "plt.imshow(test_images[rand_no].view(28,28),'gray')\n",
        "plt.title('Original Image')\n",
        "plt.show()\n",
        "plt.imshow(test_auto[rand_no].data.cpu().view(28,28),'gray')\n",
        "plt.title('Convolutional Autoencoder reconstruction')\n",
        "plt.show()"
      ],
      "execution_count": 221,
      "outputs": [
        {
          "output_type": "display_data",
          "data": {
            "image/png": "[encoded data removed]",
            "text/plain": [
              "<Figure size 432x288 with 1 Axes>"
            ]
          },
          "metadata": {
            "tags": []
          }
        },
        {
          "output_type": "display_data",
          "data": {
            "image/png": "[encoded data removed]",
            "text/plain": [
              "<Figure size 432x288 with 1 Axes>"
            ]
          },
          "metadata": {
            "tags": []
          }
        }
      ]
    },
    {
      "cell_type": "markdown",
      "metadata": {
        "id": "Tn5Zjqn_id3j",
        "colab_type": "text"
      },
      "source": [
        "**Visualization Weights of decoder**"
      ]
    },
    {
      "cell_type": "code",
      "metadata": {
        "id": "4RISugCjfNdu",
        "colab_type": "code",
        "colab": {
          "base_uri": "https://localhost:8080/",
          "height": 286
        },
        "outputId": "834e07d4-38d4-4cc0-f026-ec9d7a2d2258"
      },
      "source": [
        "plt.imshow(model11.de_conv1.weight.data.cpu()[0,0,:,:],'gray')"
      ],
      "execution_count": 236,
      "outputs": [
        {
          "output_type": "execute_result",
          "data": {
            "text/plain": [
              "<matplotlib.image.AxesImage at 0x7ffa4b0f97b8>"
            ]
          },
          "metadata": {
            "tags": []
          },
          "execution_count": 236
        },
        {
          "output_type": "display_data",
          "data": {
            "image/png": "[encoded data removed]",
            "text/plain": [
              "<Figure size 432x288 with 1 Axes>"
            ]
          },
          "metadata": {
            "tags": []
          }
        }
      ]
    },
    {
      "cell_type": "code",
      "metadata": {
        "id": "OTaMFeQkf3f5",
        "colab_type": "code",
        "colab": {
          "base_uri": "https://localhost:8080/",
          "height": 286
        },
        "outputId": "e3c6038c-bacb-4b9f-fb1b-163c6a7be36d"
      },
      "source": [
        "plt.imshow(model11.de_conv2.weight.data.cpu()[0,0,:,:],'gray')"
      ],
      "execution_count": 237,
      "outputs": [
        {
          "output_type": "execute_result",
          "data": {
            "text/plain": [
              "<matplotlib.image.AxesImage at 0x7ffa4b0d9278>"
            ]
          },
          "metadata": {
            "tags": []
          },
          "execution_count": 237
        },
        {
          "output_type": "display_data",
          "data": {
            "image/png": "[encoded data removed]",
            "text/plain": [
              "<Figure size 432x288 with 1 Axes>"
            ]
          },
          "metadata": {
            "tags": []
          }
        }
      ]
    },
    {
      "cell_type": "code",
      "metadata": {
        "id": "OQ0yUomTf7B_",
        "colab_type": "code",
        "colab": {
          "base_uri": "https://localhost:8080/",
          "height": 286
        },
        "outputId": "26701215-6549-4b1d-ad53-87e675ed21e8"
      },
      "source": [
        "plt.imshow(model11.de_conv3.weight.data.cpu()[0,0,:,:],'gray')"
      ],
      "execution_count": 238,
      "outputs": [
        {
          "output_type": "execute_result",
          "data": {
            "text/plain": [
              "<matplotlib.image.AxesImage at 0x7ffa4b0adcc0>"
            ]
          },
          "metadata": {
            "tags": []
          },
          "execution_count": 238
        },
        {
          "output_type": "display_data",
          "data": {
            "image/png": "[encoded data removed]",
            "text/plain": [
              "<Figure size 432x288 with 1 Axes>"
            ]
          },
          "metadata": {
            "tags": []
          }
        }
      ]
    },
    {
      "cell_type": "markdown",
      "metadata": {
        "id": "bsYGxx_v4VKA",
        "colab_type": "text"
      },
      "source": [
        "**iii) Deconvolution**"
      ]
    },
    {
      "cell_type": "code",
      "metadata": {
        "id": "a9BUj4NL4e9V",
        "colab_type": "code",
        "colab": {}
      },
      "source": [
        "class convolutional_autoencoder_3(nn.Module):\n",
        "    def __init__(self):\n",
        "        super(convolutional_autoencoder_3, self).__init__()\n",
        "        \n",
        "        self.conv1 = nn.Conv2d(1, 8, 3)\n",
        "        self.maxpool1 =  nn.MaxPool2d(2)\n",
        "        self.conv2 = nn.Conv2d(8,16,3)\n",
        "        self.maxpool2 = nn.MaxPool2d(2)\n",
        "        self.conv3 = nn.Conv2d(16,16,3)\n",
        "        self.maxpool3 = nn.MaxPool2d(2)\n",
        "\n",
        "        self.de_conv1 = nn.ConvTranspose2d(16,16,3,stride = 2)\n",
        "        self.de_conv2 = nn.ConvTranspose2d(16,16,3)\n",
        "        self.de_conv3 = nn.ConvTranspose2d(16,8,3,stride = 2)\n",
        "        self.de_conv4 = nn.ConvTranspose2d(8,8,3)\n",
        "        self.de_conv5 = nn.ConvTranspose2d(8,8,2,stride = 2)\n",
        "        self.de_conv6 = nn.ConvTranspose2d(8,1,3)\n",
        "    def encoder(self,x):\n",
        "        x = self.conv1(x)\n",
        "        x = F.relu(x)\n",
        "        x = self.maxpool1(x)\n",
        "        x = self.conv2(x)\n",
        "        x = F.relu(x)\n",
        "       # print(x.shape)\n",
        "        x = self.maxpool2(x)\n",
        "        x = self.conv3(x)\n",
        "        x = F.relu(x)\n",
        "       # print(x.shape)\n",
        "        x = self.maxpool3(x)\n",
        "        x = F.relu(x)\n",
        "        return x\n",
        "\n",
        "    def decoder(self,x):\n",
        "        x = self.de_conv1(x)\n",
        "        x = self.de_conv2(x)\n",
        "        x = F.relu(x)\n",
        "        x = self.de_conv3(x)\n",
        "        x = F.relu(x)\n",
        "        x = self.de_conv4(x)\n",
        "        \n",
        "        \n",
        "        x = self.de_conv5(x)\n",
        "        x = F.relu(x)\n",
        "        x = self.de_conv6(x)\n",
        "        \n",
        "        return x\n",
        "\n",
        "    def forward(self, x):\n",
        "        x = self.encoder(x)\n",
        "        x = self.decoder(x)\n",
        "        return x\n"
      ],
      "execution_count": 0,
      "outputs": []
    },
    {
      "cell_type": "code",
      "metadata": {
        "id": "z7-Orq-E7Zi9",
        "colab_type": "code",
        "colab": {}
      },
      "source": [
        "model12 = convolutional_autoencoder_3().cuda()\n",
        "criterion = nn.MSELoss()\n",
        "optimizer = torch.optim.Adam(\n",
        "model12.parameters(), lr= 0.001)"
      ],
      "execution_count": 0,
      "outputs": []
    },
    {
      "cell_type": "code",
      "metadata": {
        "id": "ZDtIN1lo7f_P",
        "colab_type": "code",
        "colab": {
          "base_uri": "https://localhost:8080/",
          "height": 353
        },
        "outputId": "e18d7d78-3ccc-4e70-9304-e03e674ee91e"
      },
      "source": [
        "num_epochs = 20\n",
        "run_train_loss = []\n",
        "run_val_loss = []\n",
        "for epoch in range(num_epochs):\n",
        "    for data in train_loader:\n",
        "        img = data\n",
        "        img = img.view(img.size(0),1,28,28)\n",
        "        img = Variable(img)\n",
        "        # ===================forward=====================\n",
        "        img = img.type(torch.FloatTensor).cuda()\n",
        "        output = model12(img)\n",
        "        loss = criterion(output, img)\n",
        "        # ===================backward====================\n",
        "        optimizer.zero_grad()\n",
        "        loss.backward()\n",
        "        optimizer.step()\n",
        "    \n",
        "    with torch.no_grad():\n",
        "        train_loss = 0\n",
        "        total_train = 0\n",
        "        for data in train_loader:\n",
        "            images = data\n",
        "            images = images.view(images.size(0),1, 28,28)\n",
        "            images = Variable(images)\n",
        "            images = images.type(torch.FloatTensor).cuda()\n",
        "            outputs = model12(images)\n",
        "            loss_train = criterion(outputs, images)\n",
        "            train_loss += loss_train\n",
        "            total_train += 1\n",
        "          \n",
        "    run_train_loss.append(train_loss/total_train)\n",
        "    with torch.no_grad():\n",
        "        val_loss = 0\n",
        "        total_val = 0\n",
        "        for data in val_loader:\n",
        "            images = data\n",
        "            images = images.view(images.size(0), 1,28,28)\n",
        "            images = Variable(images)\n",
        "            images = images.type(torch.FloatTensor).cuda()\n",
        "            outputs = model12(images)\n",
        "            loss_val = criterion(outputs, images)\n",
        "            val_loss += loss_val\n",
        "            total_val += 1\n",
        "    run_val_loss.append(val_loss/total_val)\n",
        "    \n",
        "            \n",
        "    # ===================log========================\n",
        "    print('epoch [{}/{}], train_loss:{:.4f}\\t val_loss:{:.4f}'\n",
        "          .format(epoch + 1, num_epochs, train_loss/total_train,val_loss/total_val))"
      ],
      "execution_count": 127,
      "outputs": [
        {
          "output_type": "stream",
          "text": [
            "epoch [1/20], train_loss:0.0304\t val_loss:0.0305\n",
            "epoch [2/20], train_loss:0.0251\t val_loss:0.0252\n",
            "epoch [3/20], train_loss:0.0231\t val_loss:0.0231\n",
            "epoch [4/20], train_loss:0.0219\t val_loss:0.0220\n",
            "epoch [5/20], train_loss:0.0215\t val_loss:0.0216\n",
            "epoch [6/20], train_loss:0.0211\t val_loss:0.0212\n",
            "epoch [7/20], train_loss:0.0203\t val_loss:0.0204\n",
            "epoch [8/20], train_loss:0.0201\t val_loss:0.0202\n",
            "epoch [9/20], train_loss:0.0201\t val_loss:0.0203\n",
            "epoch [10/20], train_loss:0.0197\t val_loss:0.0199\n",
            "epoch [11/20], train_loss:0.0193\t val_loss:0.0195\n",
            "epoch [12/20], train_loss:0.0192\t val_loss:0.0194\n",
            "epoch [13/20], train_loss:0.0192\t val_loss:0.0193\n",
            "epoch [14/20], train_loss:0.0190\t val_loss:0.0192\n",
            "epoch [15/20], train_loss:0.0190\t val_loss:0.0192\n",
            "epoch [16/20], train_loss:0.0186\t val_loss:0.0188\n",
            "epoch [17/20], train_loss:0.0187\t val_loss:0.0189\n",
            "epoch [18/20], train_loss:0.0189\t val_loss:0.0191\n",
            "epoch [19/20], train_loss:0.0185\t val_loss:0.0187\n",
            "epoch [20/20], train_loss:0.0181\t val_loss:0.0184\n"
          ],
          "name": "stdout"
        }
      ]
    },
    {
      "cell_type": "code",
      "metadata": {
        "id": "JxJ9pUaA7uUd",
        "colab_type": "code",
        "colab": {
          "base_uri": "https://localhost:8080/",
          "height": 296
        },
        "outputId": "72bf78d6-d3ab-4726-d10f-bc445bf6a304"
      },
      "source": [
        "epoch = [i for i in range(1,len(run_train_loss)+1)]\n",
        "plt.plot(epoch,run_train_loss,'-r')\n",
        "plt.plot(epoch,run_val_loss,'-b')\n",
        "plt.title('Train and validation loss')\n",
        "plt.xlabel('n_iterations')\n",
        "plt.ylabel('Error')\n",
        "plt.gca().legend(('train loss','validation loss'))\n",
        "plt.show()"
      ],
      "execution_count": 128,
      "outputs": [
        {
          "output_type": "display_data",
          "data": {
            "image/png": "[encoded data removed]",
            "text/plain": [
              "<Figure size 432x288 with 1 Axes>"
            ]
          },
          "metadata": {
            "tags": []
          }
        }
      ]
    },
    {
      "cell_type": "code",
      "metadata": {
        "id": "W6mX7aa086ZH",
        "colab_type": "code",
        "colab": {
          "base_uri": "https://localhost:8080/",
          "height": 34
        },
        "outputId": "16e49233-8079-4c0e-bf8c-5bbd108d1279"
      },
      "source": [
        "with torch.no_grad():\n",
        "        test_loss = 0\n",
        "        total_test = 0\n",
        "        for data in test_loader:\n",
        "            images = data\n",
        "            images = images.view(images.size(0), 1,28,28)\n",
        "            images = Variable(images)\n",
        "            images = images.type(torch.FloatTensor).cuda()\n",
        "            outputs = model12(images)\n",
        "            loss_test = criterion(outputs, images)\n",
        "            loss_test = loss_test.item()\n",
        "            test_loss += loss_test\n",
        "            total_test += 1\n",
        "Mse = test_loss/total_test\n",
        "print('MSE:',Mse)"
      ],
      "execution_count": 129,
      "outputs": [
        {
          "output_type": "stream",
          "text": [
            "MSE: 0.017867046906642474\n"
          ],
          "name": "stdout"
        }
      ]
    },
    {
      "cell_type": "code",
      "metadata": {
        "id": "nZSrmdNz89-c",
        "colab_type": "code",
        "colab": {}
      },
      "source": [
        "test_auto = model12(test_images.type(torch.FloatTensor).view(-1,1,28,28).cuda())"
      ],
      "execution_count": 0,
      "outputs": []
    },
    {
      "cell_type": "code",
      "metadata": {
        "id": "JThEzldZ9IZu",
        "colab_type": "code",
        "colab": {
          "base_uri": "https://localhost:8080/",
          "height": 545
        },
        "outputId": "b88eaa93-7ca5-4dc8-8085-55209b70b3a9"
      },
      "source": [
        "rand_no = np.random.randint(0,10000)\n",
        "plt.imshow(test_images[rand_no].view(28,28),'gray')\n",
        "plt.title('Original Image')\n",
        "plt.show()\n",
        "plt.imshow(test_auto[rand_no].data.cpu().view(28,28),'gray')\n",
        "plt.title('Convolutional Autoencoder reconstruction')\n",
        "plt.show()"
      ],
      "execution_count": 131,
      "outputs": [
        {
          "output_type": "display_data",
          "data": {
            "image/png": "[encoded data removed]",
            "text/plain": [
              "<Figure size 432x288 with 1 Axes>"
            ]
          },
          "metadata": {
            "tags": []
          }
        },
        {
          "output_type": "display_data",
          "data": {
            "image/png": "[encoded data removed]",
            "text/plain": [
              "<Figure size 432x288 with 1 Axes>"
            ]
          },
          "metadata": {
            "tags": []
          }
        }
      ]
    },
    {
      "cell_type": "markdown",
      "metadata": {
        "id": "nW6TkARZisYl",
        "colab_type": "text"
      },
      "source": [
        "**Visualization Weights of decoder**"
      ]
    },
    {
      "cell_type": "code",
      "metadata": {
        "id": "3YR8tJw7__mR",
        "colab_type": "code",
        "colab": {
          "base_uri": "https://localhost:8080/",
          "height": 286
        },
        "outputId": "66fd830b-17bd-4511-e85a-c49a262bf55d"
      },
      "source": [
        "plt.imshow(model12.de_conv1.weight.data.cpu()[0,0,:,:],'gray')"
      ],
      "execution_count": 228,
      "outputs": [
        {
          "output_type": "execute_result",
          "data": {
            "text/plain": [
              "<matplotlib.image.AxesImage at 0x7ffa4b3cab00>"
            ]
          },
          "metadata": {
            "tags": []
          },
          "execution_count": 228
        },
        {
          "output_type": "display_data",
          "data": {
            "image/png": "[encoded data removed]",
            "text/plain": [
              "<Figure size 432x288 with 1 Axes>"
            ]
          },
          "metadata": {
            "tags": []
          }
        }
      ]
    },
    {
      "cell_type": "code",
      "metadata": {
        "id": "3rMASiTx9-mf",
        "colab_type": "code",
        "colab": {
          "base_uri": "https://localhost:8080/",
          "height": 286
        },
        "outputId": "e8f35bc1-04c5-4a18-b338-0849fcf51ec4"
      },
      "source": [
        "plt.imshow(model12.de_conv2.weight.data.cpu()[0,0,:,:],'gray')"
      ],
      "execution_count": 229,
      "outputs": [
        {
          "output_type": "execute_result",
          "data": {
            "text/plain": [
              "<matplotlib.image.AxesImage at 0x7ffa4b3a09e8>"
            ]
          },
          "metadata": {
            "tags": []
          },
          "execution_count": 229
        },
        {
          "output_type": "display_data",
          "data": {
            "image/png": "[encoded data removed]",
            "text/plain": [
              "<Figure size 432x288 with 1 Axes>"
            ]
          },
          "metadata": {
            "tags": []
          }
        }
      ]
    },
    {
      "cell_type": "code",
      "metadata": {
        "id": "-VVemAFQeCci",
        "colab_type": "code",
        "colab": {
          "base_uri": "https://localhost:8080/",
          "height": 286
        },
        "outputId": "cb48fa5b-4f6f-4d7a-e5d1-e1725b0e38cf"
      },
      "source": [
        "plt.imshow(model12.de_conv3.weight.data.cpu()[0,0,:,:],'gray')"
      ],
      "execution_count": 230,
      "outputs": [
        {
          "output_type": "execute_result",
          "data": {
            "text/plain": [
              "<matplotlib.image.AxesImage at 0x7ffa4b376be0>"
            ]
          },
          "metadata": {
            "tags": []
          },
          "execution_count": 230
        },
        {
          "output_type": "display_data",
          "data": {
            "image/png": "[encoded data removed]",
            "text/plain": [
              "<Figure size 432x288 with 1 Axes>"
            ]
          },
          "metadata": {
            "tags": []
          }
        }
      ]
    },
    {
      "cell_type": "code",
      "metadata": {
        "id": "MfQKbig0eaD0",
        "colab_type": "code",
        "colab": {
          "base_uri": "https://localhost:8080/",
          "height": 286
        },
        "outputId": "9c1ef58c-cc70-4fc9-e70d-435cb3b45c2f"
      },
      "source": [
        "plt.imshow(model12.de_conv4.weight.data.cpu()[0,0,:,:],'gray')"
      ],
      "execution_count": 232,
      "outputs": [
        {
          "output_type": "execute_result",
          "data": {
            "text/plain": [
              "<matplotlib.image.AxesImage at 0x7ffa4b297fd0>"
            ]
          },
          "metadata": {
            "tags": []
          },
          "execution_count": 232
        },
        {
          "output_type": "display_data",
          "data": {
            "image/png": "[encoded data removed]",
            "text/plain": [
              "<Figure size 432x288 with 1 Axes>"
            ]
          },
          "metadata": {
            "tags": []
          }
        }
      ]
    },
    {
      "cell_type": "code",
      "metadata": {
        "id": "RjadlJdDebP3",
        "colab_type": "code",
        "colab": {
          "base_uri": "https://localhost:8080/",
          "height": 286
        },
        "outputId": "8f678c9b-d78b-48ea-8c04-d0c6ecf553e6"
      },
      "source": [
        "plt.imshow(model12.de_conv5.weight.data.cpu()[0,0,:,:],'gray')"
      ],
      "execution_count": 233,
      "outputs": [
        {
          "output_type": "execute_result",
          "data": {
            "text/plain": [
              "<matplotlib.image.AxesImage at 0x7ffa4b26aa90>"
            ]
          },
          "metadata": {
            "tags": []
          },
          "execution_count": 233
        },
        {
          "output_type": "display_data",
          "data": {
            "image/png": "[encoded data removed]",
            "text/plain": [
              "<Figure size 432x288 with 1 Axes>"
            ]
          },
          "metadata": {
            "tags": []
          }
        }
      ]
    },
    {
      "cell_type": "code",
      "metadata": {
        "id": "37RGlPd5ehCh",
        "colab_type": "code",
        "colab": {
          "base_uri": "https://localhost:8080/",
          "height": 286
        },
        "outputId": "e40ee942-1c9f-40c9-a867-d787802c3a5e"
      },
      "source": [
        "plt.imshow(model12.de_conv6.weight.data.cpu()[0,0,:,:],'gray')"
      ],
      "execution_count": 235,
      "outputs": [
        {
          "output_type": "execute_result",
          "data": {
            "text/plain": [
              "<matplotlib.image.AxesImage at 0x7ffa4b19ae48>"
            ]
          },
          "metadata": {
            "tags": []
          },
          "execution_count": 235
        },
        {
          "output_type": "display_data",
          "data": {
            "image/png": "[encoded data removed]",
            "text/plain": [
              "<Figure size 432x288 with 1 Axes>"
            ]
          },
          "metadata": {
            "tags": []
          }
        }
      ]
    },
    {
      "cell_type": "markdown",
      "metadata": {
        "id": "pjuW3B_ti8bR",
        "colab_type": "text"
      },
      "source": [
        "Using only Unpooling, and unpooling + deconvolution we could get less MSE, using only deconvolution makes model more complex so requires more no. of epochs to reach the same MSE as obtained in the above case."
      ]
    }
  ]
}